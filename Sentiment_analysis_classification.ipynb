{
 "cells": [
  {
   "cell_type": "code",
   "execution_count": 1,
   "metadata": {},
   "outputs": [],
   "source": [
    "import pandas as pd\n",
    "from nltk.corpus import stopwords\n",
    "import nltk\n",
    "from nltk.stem import WordNetLemmatizer \n",
    "from nltk.corpus import stopwords\n",
    "from nltk.tokenize import word_tokenize\n",
    "from nltk.tokenize import sent_tokenize\n",
    "import string\n",
    "from nltk.stem.porter import PorterStemmer\n",
    "import re"
   ]
  },
  {
   "cell_type": "code",
   "execution_count": 2,
   "metadata": {},
   "outputs": [
    {
     "name": "stdout",
     "output_type": "stream",
     "text": [
      "                                                 product product_company  \\\n",
      "0      OnePlus Nord 5G (Gray Onyx, 8GB RAM, 128GB Sto...         OnePlus   \n",
      "1      OnePlus Nord 5G (Gray Onyx, 8GB RAM, 128GB Sto...         OnePlus   \n",
      "2      OnePlus Nord 5G (Gray Onyx, 8GB RAM, 128GB Sto...         OnePlus   \n",
      "3      OnePlus Nord 5G (Gray Onyx, 8GB RAM, 128GB Sto...         OnePlus   \n",
      "4      OnePlus Nord 5G (Gray Onyx, 8GB RAM, 128GB Sto...         OnePlus   \n",
      "...                                                  ...             ...   \n",
      "30607  Redmi Note 9 Pro (Aurora Blue, 4GB RAM, 64GB S...           Redmi   \n",
      "30608  Redmi Note 9 Pro (Aurora Blue, 4GB RAM, 64GB S...           Redmi   \n",
      "30609  Redmi Note 9 Pro (Aurora Blue, 4GB RAM, 64GB S...           Redmi   \n",
      "30610  Redmi Note 9 Pro (Aurora Blue, 4GB RAM, 64GB S...           Redmi   \n",
      "30611  Redmi Note 9 Pro (Aurora Blue, 4GB RAM, 64GB S...           Redmi   \n",
      "\n",
      "          profile_name                                       review_title  \\\n",
      "0               Nikhil                            *Read before you buy!!*   \n",
      "1                 Amit                      Near to mid range  Perfection   \n",
      "2            aishwarya                                       Great price!   \n",
      "3              vasu a.                                  Beast in OnePlus.   \n",
      "4      Amazon Customer                            Changed to Nord from 6t   \n",
      "...                ...                                                ...   \n",
      "30607           rakesh                     Great but not satisfied for me   \n",
      "30608  Amazon Customer                                      Not recommend   \n",
      "30609      SREEKUMAR V  WORST MARKETING TACTICS OF FLASH SALE OF REDMI...   \n",
      "30610      Abhishek M.                            Display retention issue   \n",
      "30611  Amazon Customer                            Camera quality is bad 👎   \n",
      "\n",
      "            review_rating                                        review_text  \\\n",
      "0      5.0 out of 5 stars  \\n  Yea..pre-ordered on 28 July, got it on 4 A...   \n",
      "1      5.0 out of 5 stars  \\n  Got it delivered yesterday , used for abou...   \n",
      "2      5.0 out of 5 stars                              \\n  An amazing phone!   \n",
      "3      5.0 out of 5 stars                                    \\n  Brilliant..   \n",
      "4      5.0 out of 5 stars  \\n  I was skeptical about changing from One pl...   \n",
      "...                   ...                                                ...   \n",
      "30607  2.0 out of 5 stars  \\n  Quality of phone is great but from my pers...   \n",
      "30608  2.0 out of 5 stars                                \\n  Not recommend\\n   \n",
      "30609  2.0 out of 5 stars  \\n  Redmi and Amazon is engaged in a worst mar...   \n",
      "30610  2.0 out of 5 stars  \\n  I am facing display retention problem, aft...   \n",
      "30611  2.0 out of 5 stars  \\n  Front camera quality is worse as compare t...   \n",
      "\n",
      "                       helpful_count  total_comments review_country  \\\n",
      "0      721 people found this helpful               3         India    \n",
      "1      436 people found this helpful               1         India    \n",
      "2      322 people found this helpful               1         India    \n",
      "3      243 people found this helpful               7         India    \n",
      "4      109 people found this helpful               2         India    \n",
      "...                              ...             ...            ...   \n",
      "30607                              0               0         India    \n",
      "30608                              0               0         India    \n",
      "30609    3 people found this helpful               0         India    \n",
      "30610                              0               0         India    \n",
      "30611                              0               0         India    \n",
      "\n",
      "      reviewed_at                                                url  \\\n",
      "0      2020-08-04  https://www.amazon.in/product-reviews/B08695ZS...   \n",
      "1      2020-08-03  https://www.amazon.in/product-reviews/B08695ZS...   \n",
      "2      2020-08-04  https://www.amazon.in/product-reviews/B08695ZS...   \n",
      "3      2020-08-02  https://www.amazon.in/product-reviews/B08695ZS...   \n",
      "4      2020-08-04  https://www.amazon.in/product-reviews/B08695ZS...   \n",
      "...           ...                                                ...   \n",
      "30607  2020-09-03  https://www.amazon.in/product-reviews/B077Q7GW...   \n",
      "30608  2020-05-20  https://www.amazon.in/product-reviews/B077Q7GW...   \n",
      "30609  2020-06-29  https://www.amazon.in/product-reviews/B077Q7GW...   \n",
      "30610  2020-04-26  https://www.amazon.in/product-reviews/B077Q7GW...   \n",
      "30611  2020-07-05  https://www.amazon.in/product-reviews/B077Q7GW...   \n",
      "\n",
      "               crawled_at                                   _id  \\\n",
      "0     2020-10-18 11:23:47  45ca015a-2e39-5650-a174-ba966dd1e51f   \n",
      "1     2020-10-18 11:23:47  6820f8ae-f3cd-5783-b826-5e5805376047   \n",
      "2     2020-10-18 11:23:47  bea91c43-8d65-5ef5-ab04-595a5f5cc542   \n",
      "3     2020-10-18 11:23:47  76f68b53-5c52-56b2-9727-a5ab8c4bb4ff   \n",
      "4     2020-10-18 11:23:47  22228681-b884-56a1-b04e-87167f6f76e6   \n",
      "...                   ...                                   ...   \n",
      "30607 2020-10-18 17:37:17  5b17d02b-9a14-5802-8523-c9835f923bd5   \n",
      "30608 2020-10-18 17:37:17  633b24b0-89ed-5ba6-b651-09eef6c2aa44   \n",
      "30609 2020-10-18 17:37:18  961649c7-ab01-5e9b-8c09-ab9e8a1e6c6d   \n",
      "30610 2020-10-18 17:37:18  bd56d1dc-016b-5671-ae3f-ad2529dbe0b2   \n",
      "30611 2020-10-18 17:37:18  23f38628-3acd-5ada-9cd8-f4d86d342987   \n",
      "\n",
      "       verified_purchase           color                style_name size_name  \\\n",
      "0      Verified Purchase     Marble Blue   8GB RAM + 128GB Storage        na   \n",
      "1      Verified Purchase              na                        na        na   \n",
      "2      Verified Purchase              na                        na        na   \n",
      "3      Verified Purchase              na                        na        na   \n",
      "4      Verified Purchase              na                        na        na   \n",
      "...                  ...             ...                       ...       ...   \n",
      "30607  Verified Purchase              na                        na        na   \n",
      "30608  Verified Purchase   Glacier White     4GB RAM+ 64GB Storage        na   \n",
      "30609                 na              na                        na        na   \n",
      "30610                 na              na                        na        na   \n",
      "30611  Verified Purchase              na                        na        na   \n",
      "\n",
      "          category sub_category  \\\n",
      "0      electronics      mobiles   \n",
      "1      electronics      mobiles   \n",
      "2      electronics      mobiles   \n",
      "3      electronics      mobiles   \n",
      "4      electronics      mobiles   \n",
      "...            ...          ...   \n",
      "30607  electronics      mobiles   \n",
      "30608  electronics      mobiles   \n",
      "30609  electronics      mobiles   \n",
      "30610  electronics      mobiles   \n",
      "30611  electronics      mobiles   \n",
      "\n",
      "                                                  images  \n",
      "0      [https://images-na.ssl-images-amazon.com/image...  \n",
      "1                                                     []  \n",
      "2      [https://images-na.ssl-images-amazon.com/image...  \n",
      "3      [https://images-na.ssl-images-amazon.com/image...  \n",
      "4                                                     []  \n",
      "...                                                  ...  \n",
      "30607                                                 []  \n",
      "30608                                                 []  \n",
      "30609                                                 []  \n",
      "30610                                                 []  \n",
      "30611                                                 []  \n",
      "\n",
      "[30612 rows x 20 columns]\n"
     ]
    }
   ],
   "source": [
    "reviews= pd.read_json('amazon_one_plus_reviews.json', orient='str')\n",
    "print(reviews)"
   ]
  },
  {
   "cell_type": "code",
   "execution_count": 3,
   "metadata": {},
   "outputs": [
    {
     "data": {
      "text/html": [
       "<div>\n",
       "<style scoped>\n",
       "    .dataframe tbody tr th:only-of-type {\n",
       "        vertical-align: middle;\n",
       "    }\n",
       "\n",
       "    .dataframe tbody tr th {\n",
       "        vertical-align: top;\n",
       "    }\n",
       "\n",
       "    .dataframe thead th {\n",
       "        text-align: right;\n",
       "    }\n",
       "</style>\n",
       "<table border=\"1\" class=\"dataframe\">\n",
       "  <thead>\n",
       "    <tr style=\"text-align: right;\">\n",
       "      <th></th>\n",
       "      <th>product</th>\n",
       "      <th>product_company</th>\n",
       "      <th>profile_name</th>\n",
       "      <th>review_title</th>\n",
       "      <th>review_rating</th>\n",
       "      <th>review_text</th>\n",
       "      <th>helpful_count</th>\n",
       "      <th>total_comments</th>\n",
       "      <th>review_country</th>\n",
       "      <th>reviewed_at</th>\n",
       "      <th>url</th>\n",
       "      <th>crawled_at</th>\n",
       "      <th>_id</th>\n",
       "      <th>verified_purchase</th>\n",
       "      <th>color</th>\n",
       "      <th>style_name</th>\n",
       "      <th>size_name</th>\n",
       "      <th>category</th>\n",
       "      <th>sub_category</th>\n",
       "      <th>images</th>\n",
       "    </tr>\n",
       "  </thead>\n",
       "  <tbody>\n",
       "    <tr>\n",
       "      <th>0</th>\n",
       "      <td>OnePlus Nord 5G (Gray Onyx, 8GB RAM, 128GB Sto...</td>\n",
       "      <td>OnePlus</td>\n",
       "      <td>Nikhil</td>\n",
       "      <td>*Read before you buy!!*</td>\n",
       "      <td>5.0 out of 5 stars</td>\n",
       "      <td>\\n  Yea..pre-ordered on 28 July, got it on 4 A...</td>\n",
       "      <td>721 people found this helpful</td>\n",
       "      <td>3</td>\n",
       "      <td>India</td>\n",
       "      <td>2020-08-04</td>\n",
       "      <td>https://www.amazon.in/product-reviews/B08695ZS...</td>\n",
       "      <td>2020-10-18 11:23:47</td>\n",
       "      <td>45ca015a-2e39-5650-a174-ba966dd1e51f</td>\n",
       "      <td>Verified Purchase</td>\n",
       "      <td>Marble Blue</td>\n",
       "      <td>8GB RAM + 128GB Storage</td>\n",
       "      <td>na</td>\n",
       "      <td>electronics</td>\n",
       "      <td>mobiles</td>\n",
       "      <td>[https://images-na.ssl-images-amazon.com/image...</td>\n",
       "    </tr>\n",
       "    <tr>\n",
       "      <th>1</th>\n",
       "      <td>OnePlus Nord 5G (Gray Onyx, 8GB RAM, 128GB Sto...</td>\n",
       "      <td>OnePlus</td>\n",
       "      <td>Amit</td>\n",
       "      <td>Near to mid range  Perfection</td>\n",
       "      <td>5.0 out of 5 stars</td>\n",
       "      <td>\\n  Got it delivered yesterday , used for abou...</td>\n",
       "      <td>436 people found this helpful</td>\n",
       "      <td>1</td>\n",
       "      <td>India</td>\n",
       "      <td>2020-08-03</td>\n",
       "      <td>https://www.amazon.in/product-reviews/B08695ZS...</td>\n",
       "      <td>2020-10-18 11:23:47</td>\n",
       "      <td>6820f8ae-f3cd-5783-b826-5e5805376047</td>\n",
       "      <td>Verified Purchase</td>\n",
       "      <td>na</td>\n",
       "      <td>na</td>\n",
       "      <td>na</td>\n",
       "      <td>electronics</td>\n",
       "      <td>mobiles</td>\n",
       "      <td>[]</td>\n",
       "    </tr>\n",
       "    <tr>\n",
       "      <th>2</th>\n",
       "      <td>OnePlus Nord 5G (Gray Onyx, 8GB RAM, 128GB Sto...</td>\n",
       "      <td>OnePlus</td>\n",
       "      <td>aishwarya</td>\n",
       "      <td>Great price!</td>\n",
       "      <td>5.0 out of 5 stars</td>\n",
       "      <td>\\n  An amazing phone!</td>\n",
       "      <td>322 people found this helpful</td>\n",
       "      <td>1</td>\n",
       "      <td>India</td>\n",
       "      <td>2020-08-04</td>\n",
       "      <td>https://www.amazon.in/product-reviews/B08695ZS...</td>\n",
       "      <td>2020-10-18 11:23:47</td>\n",
       "      <td>bea91c43-8d65-5ef5-ab04-595a5f5cc542</td>\n",
       "      <td>Verified Purchase</td>\n",
       "      <td>na</td>\n",
       "      <td>na</td>\n",
       "      <td>na</td>\n",
       "      <td>electronics</td>\n",
       "      <td>mobiles</td>\n",
       "      <td>[https://images-na.ssl-images-amazon.com/image...</td>\n",
       "    </tr>\n",
       "    <tr>\n",
       "      <th>3</th>\n",
       "      <td>OnePlus Nord 5G (Gray Onyx, 8GB RAM, 128GB Sto...</td>\n",
       "      <td>OnePlus</td>\n",
       "      <td>vasu a.</td>\n",
       "      <td>Beast in OnePlus.</td>\n",
       "      <td>5.0 out of 5 stars</td>\n",
       "      <td>\\n  Brilliant..</td>\n",
       "      <td>243 people found this helpful</td>\n",
       "      <td>7</td>\n",
       "      <td>India</td>\n",
       "      <td>2020-08-02</td>\n",
       "      <td>https://www.amazon.in/product-reviews/B08695ZS...</td>\n",
       "      <td>2020-10-18 11:23:47</td>\n",
       "      <td>76f68b53-5c52-56b2-9727-a5ab8c4bb4ff</td>\n",
       "      <td>Verified Purchase</td>\n",
       "      <td>na</td>\n",
       "      <td>na</td>\n",
       "      <td>na</td>\n",
       "      <td>electronics</td>\n",
       "      <td>mobiles</td>\n",
       "      <td>[https://images-na.ssl-images-amazon.com/image...</td>\n",
       "    </tr>\n",
       "    <tr>\n",
       "      <th>4</th>\n",
       "      <td>OnePlus Nord 5G (Gray Onyx, 8GB RAM, 128GB Sto...</td>\n",
       "      <td>OnePlus</td>\n",
       "      <td>Amazon Customer</td>\n",
       "      <td>Changed to Nord from 6t</td>\n",
       "      <td>5.0 out of 5 stars</td>\n",
       "      <td>\\n  I was skeptical about changing from One pl...</td>\n",
       "      <td>109 people found this helpful</td>\n",
       "      <td>2</td>\n",
       "      <td>India</td>\n",
       "      <td>2020-08-04</td>\n",
       "      <td>https://www.amazon.in/product-reviews/B08695ZS...</td>\n",
       "      <td>2020-10-18 11:23:47</td>\n",
       "      <td>22228681-b884-56a1-b04e-87167f6f76e6</td>\n",
       "      <td>Verified Purchase</td>\n",
       "      <td>na</td>\n",
       "      <td>na</td>\n",
       "      <td>na</td>\n",
       "      <td>electronics</td>\n",
       "      <td>mobiles</td>\n",
       "      <td>[]</td>\n",
       "    </tr>\n",
       "  </tbody>\n",
       "</table>\n",
       "</div>"
      ],
      "text/plain": [
       "                                             product product_company  \\\n",
       "0  OnePlus Nord 5G (Gray Onyx, 8GB RAM, 128GB Sto...         OnePlus   \n",
       "1  OnePlus Nord 5G (Gray Onyx, 8GB RAM, 128GB Sto...         OnePlus   \n",
       "2  OnePlus Nord 5G (Gray Onyx, 8GB RAM, 128GB Sto...         OnePlus   \n",
       "3  OnePlus Nord 5G (Gray Onyx, 8GB RAM, 128GB Sto...         OnePlus   \n",
       "4  OnePlus Nord 5G (Gray Onyx, 8GB RAM, 128GB Sto...         OnePlus   \n",
       "\n",
       "      profile_name                   review_title       review_rating  \\\n",
       "0           Nikhil        *Read before you buy!!*  5.0 out of 5 stars   \n",
       "1             Amit  Near to mid range  Perfection  5.0 out of 5 stars   \n",
       "2        aishwarya                   Great price!  5.0 out of 5 stars   \n",
       "3          vasu a.              Beast in OnePlus.  5.0 out of 5 stars   \n",
       "4  Amazon Customer        Changed to Nord from 6t  5.0 out of 5 stars   \n",
       "\n",
       "                                         review_text  \\\n",
       "0  \\n  Yea..pre-ordered on 28 July, got it on 4 A...   \n",
       "1  \\n  Got it delivered yesterday , used for abou...   \n",
       "2                              \\n  An amazing phone!   \n",
       "3                                    \\n  Brilliant..   \n",
       "4  \\n  I was skeptical about changing from One pl...   \n",
       "\n",
       "                   helpful_count  total_comments review_country reviewed_at  \\\n",
       "0  721 people found this helpful               3         India   2020-08-04   \n",
       "1  436 people found this helpful               1         India   2020-08-03   \n",
       "2  322 people found this helpful               1         India   2020-08-04   \n",
       "3  243 people found this helpful               7         India   2020-08-02   \n",
       "4  109 people found this helpful               2         India   2020-08-04   \n",
       "\n",
       "                                                 url          crawled_at  \\\n",
       "0  https://www.amazon.in/product-reviews/B08695ZS... 2020-10-18 11:23:47   \n",
       "1  https://www.amazon.in/product-reviews/B08695ZS... 2020-10-18 11:23:47   \n",
       "2  https://www.amazon.in/product-reviews/B08695ZS... 2020-10-18 11:23:47   \n",
       "3  https://www.amazon.in/product-reviews/B08695ZS... 2020-10-18 11:23:47   \n",
       "4  https://www.amazon.in/product-reviews/B08695ZS... 2020-10-18 11:23:47   \n",
       "\n",
       "                                    _id  verified_purchase         color  \\\n",
       "0  45ca015a-2e39-5650-a174-ba966dd1e51f  Verified Purchase   Marble Blue   \n",
       "1  6820f8ae-f3cd-5783-b826-5e5805376047  Verified Purchase            na   \n",
       "2  bea91c43-8d65-5ef5-ab04-595a5f5cc542  Verified Purchase            na   \n",
       "3  76f68b53-5c52-56b2-9727-a5ab8c4bb4ff  Verified Purchase            na   \n",
       "4  22228681-b884-56a1-b04e-87167f6f76e6  Verified Purchase            na   \n",
       "\n",
       "                 style_name size_name     category sub_category  \\\n",
       "0   8GB RAM + 128GB Storage        na  electronics      mobiles   \n",
       "1                        na        na  electronics      mobiles   \n",
       "2                        na        na  electronics      mobiles   \n",
       "3                        na        na  electronics      mobiles   \n",
       "4                        na        na  electronics      mobiles   \n",
       "\n",
       "                                              images  \n",
       "0  [https://images-na.ssl-images-amazon.com/image...  \n",
       "1                                                 []  \n",
       "2  [https://images-na.ssl-images-amazon.com/image...  \n",
       "3  [https://images-na.ssl-images-amazon.com/image...  \n",
       "4                                                 []  "
      ]
     },
     "execution_count": 3,
     "metadata": {},
     "output_type": "execute_result"
    }
   ],
   "source": [
    "reviews.head()"
   ]
  },
  {
   "cell_type": "code",
   "execution_count": 4,
   "metadata": {},
   "outputs": [
    {
     "data": {
      "text/plain": [
       "(30612, 20)"
      ]
     },
     "execution_count": 4,
     "metadata": {},
     "output_type": "execute_result"
    }
   ],
   "source": [
    "reviews.shape"
   ]
  },
  {
   "cell_type": "code",
   "execution_count": 5,
   "metadata": {},
   "outputs": [
    {
     "data": {
      "text/html": [
       "<div>\n",
       "<style scoped>\n",
       "    .dataframe tbody tr th:only-of-type {\n",
       "        vertical-align: middle;\n",
       "    }\n",
       "\n",
       "    .dataframe tbody tr th {\n",
       "        vertical-align: top;\n",
       "    }\n",
       "\n",
       "    .dataframe thead th {\n",
       "        text-align: right;\n",
       "    }\n",
       "</style>\n",
       "<table border=\"1\" class=\"dataframe\">\n",
       "  <thead>\n",
       "    <tr style=\"text-align: right;\">\n",
       "      <th></th>\n",
       "      <th>product</th>\n",
       "      <th>product_company</th>\n",
       "      <th>profile_name</th>\n",
       "      <th>review_title</th>\n",
       "      <th>review_rating</th>\n",
       "      <th>review_text</th>\n",
       "      <th>helpful_count</th>\n",
       "      <th>total_comments</th>\n",
       "      <th>review_country</th>\n",
       "      <th>reviewed_at</th>\n",
       "      <th>url</th>\n",
       "      <th>crawled_at</th>\n",
       "      <th>_id</th>\n",
       "      <th>verified_purchase</th>\n",
       "      <th>color</th>\n",
       "      <th>style_name</th>\n",
       "      <th>size_name</th>\n",
       "      <th>category</th>\n",
       "      <th>sub_category</th>\n",
       "      <th>images</th>\n",
       "    </tr>\n",
       "  </thead>\n",
       "  <tbody>\n",
       "    <tr>\n",
       "      <th>0</th>\n",
       "      <td>OnePlus Nord 5G (Gray Onyx, 8GB RAM, 128GB Sto...</td>\n",
       "      <td>OnePlus</td>\n",
       "      <td>Nikhil</td>\n",
       "      <td>*Read before you buy!!*</td>\n",
       "      <td>5.0 out of 5 stars</td>\n",
       "      <td>\\n  Yea..pre-ordered on 28 July, got it on 4 A...</td>\n",
       "      <td>721 people found this helpful</td>\n",
       "      <td>3</td>\n",
       "      <td>India</td>\n",
       "      <td>2020-08-04</td>\n",
       "      <td>https://www.amazon.in/product-reviews/B08695ZS...</td>\n",
       "      <td>2020-10-18 11:23:47</td>\n",
       "      <td>45ca015a-2e39-5650-a174-ba966dd1e51f</td>\n",
       "      <td>Verified Purchase</td>\n",
       "      <td>Marble Blue</td>\n",
       "      <td>8GB RAM + 128GB Storage</td>\n",
       "      <td>na</td>\n",
       "      <td>electronics</td>\n",
       "      <td>mobiles</td>\n",
       "      <td>[https://images-na.ssl-images-amazon.com/image...</td>\n",
       "    </tr>\n",
       "    <tr>\n",
       "      <th>1</th>\n",
       "      <td>OnePlus Nord 5G (Gray Onyx, 8GB RAM, 128GB Sto...</td>\n",
       "      <td>OnePlus</td>\n",
       "      <td>Amit</td>\n",
       "      <td>Near to mid range  Perfection</td>\n",
       "      <td>5.0 out of 5 stars</td>\n",
       "      <td>\\n  Got it delivered yesterday , used for abou...</td>\n",
       "      <td>436 people found this helpful</td>\n",
       "      <td>1</td>\n",
       "      <td>India</td>\n",
       "      <td>2020-08-03</td>\n",
       "      <td>https://www.amazon.in/product-reviews/B08695ZS...</td>\n",
       "      <td>2020-10-18 11:23:47</td>\n",
       "      <td>6820f8ae-f3cd-5783-b826-5e5805376047</td>\n",
       "      <td>Verified Purchase</td>\n",
       "      <td>na</td>\n",
       "      <td>na</td>\n",
       "      <td>na</td>\n",
       "      <td>electronics</td>\n",
       "      <td>mobiles</td>\n",
       "      <td>[]</td>\n",
       "    </tr>\n",
       "  </tbody>\n",
       "</table>\n",
       "</div>"
      ],
      "text/plain": [
       "                                             product product_company  \\\n",
       "0  OnePlus Nord 5G (Gray Onyx, 8GB RAM, 128GB Sto...         OnePlus   \n",
       "1  OnePlus Nord 5G (Gray Onyx, 8GB RAM, 128GB Sto...         OnePlus   \n",
       "\n",
       "  profile_name                   review_title       review_rating  \\\n",
       "0       Nikhil        *Read before you buy!!*  5.0 out of 5 stars   \n",
       "1         Amit  Near to mid range  Perfection  5.0 out of 5 stars   \n",
       "\n",
       "                                         review_text  \\\n",
       "0  \\n  Yea..pre-ordered on 28 July, got it on 4 A...   \n",
       "1  \\n  Got it delivered yesterday , used for abou...   \n",
       "\n",
       "                   helpful_count  total_comments review_country reviewed_at  \\\n",
       "0  721 people found this helpful               3         India   2020-08-04   \n",
       "1  436 people found this helpful               1         India   2020-08-03   \n",
       "\n",
       "                                                 url          crawled_at  \\\n",
       "0  https://www.amazon.in/product-reviews/B08695ZS... 2020-10-18 11:23:47   \n",
       "1  https://www.amazon.in/product-reviews/B08695ZS... 2020-10-18 11:23:47   \n",
       "\n",
       "                                    _id  verified_purchase         color  \\\n",
       "0  45ca015a-2e39-5650-a174-ba966dd1e51f  Verified Purchase   Marble Blue   \n",
       "1  6820f8ae-f3cd-5783-b826-5e5805376047  Verified Purchase            na   \n",
       "\n",
       "                 style_name size_name     category sub_category  \\\n",
       "0   8GB RAM + 128GB Storage        na  electronics      mobiles   \n",
       "1                        na        na  electronics      mobiles   \n",
       "\n",
       "                                              images  \n",
       "0  [https://images-na.ssl-images-amazon.com/image...  \n",
       "1                                                 []  "
      ]
     },
     "execution_count": 5,
     "metadata": {},
     "output_type": "execute_result"
    }
   ],
   "source": [
    "data_top=reviews.head(2) #to view the column names\n",
    "data_top"
   ]
  },
  {
   "cell_type": "code",
   "execution_count": 6,
   "metadata": {},
   "outputs": [
    {
     "name": "stdout",
     "output_type": "stream",
     "text": [
      "unique products:  3\n",
      "unique users:  24764\n",
      "unique reviews:  24764\n",
      "timeframe:  2019-11-06 00:00:00  -  2020-10-18 00:00:00\n"
     ]
    }
   ],
   "source": [
    "print(\"unique products: \", reviews['product'].nunique())\n",
    "print(\"unique users: \", reviews['_id'].nunique())\n",
    "print(\"unique reviews: \", reviews['_id'].nunique())\n",
    "print(\"timeframe: \", reviews['reviewed_at'].min(), \" - \", reviews['reviewed_at'].max())"
   ]
  },
  {
   "cell_type": "code",
   "execution_count": 7,
   "metadata": {},
   "outputs": [
    {
     "data": {
      "text/html": [
       "<div>\n",
       "<style scoped>\n",
       "    .dataframe tbody tr th:only-of-type {\n",
       "        vertical-align: middle;\n",
       "    }\n",
       "\n",
       "    .dataframe tbody tr th {\n",
       "        vertical-align: top;\n",
       "    }\n",
       "\n",
       "    .dataframe thead th {\n",
       "        text-align: right;\n",
       "    }\n",
       "</style>\n",
       "<table border=\"1\" class=\"dataframe\">\n",
       "  <thead>\n",
       "    <tr style=\"text-align: right;\">\n",
       "      <th></th>\n",
       "      <th>product</th>\n",
       "      <th>counts</th>\n",
       "    </tr>\n",
       "  </thead>\n",
       "  <tbody>\n",
       "    <tr>\n",
       "      <th>1</th>\n",
       "      <td>Redmi Note 8 (Neptune Blue, 4GB RAM, 64GB Stor...</td>\n",
       "      <td>13934</td>\n",
       "    </tr>\n",
       "    <tr>\n",
       "      <th>0</th>\n",
       "      <td>OnePlus Nord 5G (Gray Onyx, 8GB RAM, 128GB Sto...</td>\n",
       "      <td>9469</td>\n",
       "    </tr>\n",
       "    <tr>\n",
       "      <th>2</th>\n",
       "      <td>Redmi Note 9 Pro (Aurora Blue, 4GB RAM, 64GB S...</td>\n",
       "      <td>7209</td>\n",
       "    </tr>\n",
       "  </tbody>\n",
       "</table>\n",
       "</div>"
      ],
      "text/plain": [
       "                                             product  counts\n",
       "1  Redmi Note 8 (Neptune Blue, 4GB RAM, 64GB Stor...   13934\n",
       "0  OnePlus Nord 5G (Gray Onyx, 8GB RAM, 128GB Sto...    9469\n",
       "2  Redmi Note 9 Pro (Aurora Blue, 4GB RAM, 64GB S...    7209"
      ]
     },
     "execution_count": 7,
     "metadata": {},
     "output_type": "execute_result"
    }
   ],
   "source": [
    "#product with most reviews\n",
    "reviews.groupby(['product']).size().reset_index(name='counts').sort_values('counts',ascending=False).head()"
   ]
  },
  {
   "cell_type": "code",
   "execution_count": 8,
   "metadata": {},
   "outputs": [
    {
     "data": {
      "text/plain": [
       "product              0\n",
       "product_company      0\n",
       "profile_name         0\n",
       "review_title         0\n",
       "review_rating        0\n",
       "review_text          0\n",
       "helpful_count        0\n",
       "total_comments       0\n",
       "review_country       0\n",
       "reviewed_at          0\n",
       "url                  0\n",
       "crawled_at           0\n",
       "_id                  0\n",
       "verified_purchase    0\n",
       "color                0\n",
       "style_name           0\n",
       "size_name            0\n",
       "category             0\n",
       "sub_category         0\n",
       "images               0\n",
       "dtype: int64"
      ]
     },
     "execution_count": 8,
     "metadata": {},
     "output_type": "execute_result"
    }
   ],
   "source": [
    "#Check NA\n",
    "reviews.isna().sum()"
   ]
  },
  {
   "cell_type": "markdown",
   "metadata": {},
   "source": [
    "## Data pre-processing"
   ]
  },
  {
   "cell_type": "code",
   "execution_count": 9,
   "metadata": {},
   "outputs": [
    {
     "name": "stdout",
     "output_type": "stream",
     "text": [
      "                                             product product_company  \\\n",
      "0  OnePlus Nord 5G (Gray Onyx, 8GB RAM, 128GB Sto...         OnePlus   \n",
      "1  OnePlus Nord 5G (Gray Onyx, 8GB RAM, 128GB Sto...         OnePlus   \n",
      "\n",
      "  profile_name                   review_title       review_rating  \\\n",
      "0       Nikhil        *Read before you buy!!*  5.0 out of 5 stars   \n",
      "1         Amit  Near to mid range  Perfection  5.0 out of 5 stars   \n",
      "\n",
      "                                         review_text  \\\n",
      "0  \\n  Yea..pre-ordered on 28 July, got it on 4 A...   \n",
      "1  \\n  Got it delivered yesterday , used for abou...   \n",
      "\n",
      "                   helpful_count review_country reviewed_at  \\\n",
      "0  721 people found this helpful         India   2020-08-04   \n",
      "1  436 people found this helpful         India   2020-08-03   \n",
      "\n",
      "                                    _id  verified_purchase  \n",
      "0  45ca015a-2e39-5650-a174-ba966dd1e51f  Verified Purchase  \n",
      "1  6820f8ae-f3cd-5783-b826-5e5805376047  Verified Purchase  \n"
     ]
    }
   ],
   "source": [
    "#removing unnecessay columns\n",
    "reviews=reviews.drop(['sub_category','category','size_name','style_name','color','images','total_comments','url','crawled_at'],axis=1)\n",
    "print(reviews.head(2))"
   ]
  },
  {
   "cell_type": "code",
   "execution_count": 10,
   "metadata": {},
   "outputs": [],
   "source": [
    "# deal with n't\n",
    "def n_apostrophe_t_handler(document):\n",
    "\n",
    "    i = 0\n",
    "    while i < len(document):\n",
    "        if \"n't\" in document[i]:        \n",
    "            # Checks to see if there is a following word after word ending in \"n't\"\n",
    "            if (i+1) < len(document):\n",
    "                document[i+1] = 'not_' + document[i+1]\n",
    "                document.pop(i)\n",
    "            else:\n",
    "                document.pop(i)\n",
    "        i+=1\n",
    "\n",
    "    return(document)"
   ]
  },
  {
   "cell_type": "code",
   "execution_count": 11,
   "metadata": {},
   "outputs": [
    {
     "data": {
      "text/html": [
       "<div>\n",
       "<style scoped>\n",
       "    .dataframe tbody tr th:only-of-type {\n",
       "        vertical-align: middle;\n",
       "    }\n",
       "\n",
       "    .dataframe tbody tr th {\n",
       "        vertical-align: top;\n",
       "    }\n",
       "\n",
       "    .dataframe thead th {\n",
       "        text-align: right;\n",
       "    }\n",
       "</style>\n",
       "<table border=\"1\" class=\"dataframe\">\n",
       "  <thead>\n",
       "    <tr style=\"text-align: right;\">\n",
       "      <th></th>\n",
       "      <th>product</th>\n",
       "      <th>product_company</th>\n",
       "      <th>profile_name</th>\n",
       "      <th>review_title</th>\n",
       "      <th>review_rating</th>\n",
       "      <th>review_text</th>\n",
       "      <th>helpful_count</th>\n",
       "      <th>review_country</th>\n",
       "      <th>reviewed_at</th>\n",
       "      <th>_id</th>\n",
       "      <th>verified_purchase</th>\n",
       "    </tr>\n",
       "  </thead>\n",
       "  <tbody>\n",
       "    <tr>\n",
       "      <th>0</th>\n",
       "      <td>OnePlus Nord 5G (Gray Onyx, 8GB RAM, 128GB Sto...</td>\n",
       "      <td>OnePlus</td>\n",
       "      <td>Nikhil</td>\n",
       "      <td>*Read before you buy!!*</td>\n",
       "      <td>5</td>\n",
       "      <td>\\n  Yea..pre-ordered on 28 July, got it on 4 A...</td>\n",
       "      <td>721 people found this helpful</td>\n",
       "      <td>India</td>\n",
       "      <td>2020-08-04</td>\n",
       "      <td>45ca015a-2e39-5650-a174-ba966dd1e51f</td>\n",
       "      <td>Verified Purchase</td>\n",
       "    </tr>\n",
       "    <tr>\n",
       "      <th>1</th>\n",
       "      <td>OnePlus Nord 5G (Gray Onyx, 8GB RAM, 128GB Sto...</td>\n",
       "      <td>OnePlus</td>\n",
       "      <td>Amit</td>\n",
       "      <td>Near to mid range  Perfection</td>\n",
       "      <td>5</td>\n",
       "      <td>\\n  Got it delivered yesterday , used for abou...</td>\n",
       "      <td>436 people found this helpful</td>\n",
       "      <td>India</td>\n",
       "      <td>2020-08-03</td>\n",
       "      <td>6820f8ae-f3cd-5783-b826-5e5805376047</td>\n",
       "      <td>Verified Purchase</td>\n",
       "    </tr>\n",
       "    <tr>\n",
       "      <th>2</th>\n",
       "      <td>OnePlus Nord 5G (Gray Onyx, 8GB RAM, 128GB Sto...</td>\n",
       "      <td>OnePlus</td>\n",
       "      <td>aishwarya</td>\n",
       "      <td>Great price!</td>\n",
       "      <td>5</td>\n",
       "      <td>\\n  An amazing phone!</td>\n",
       "      <td>322 people found this helpful</td>\n",
       "      <td>India</td>\n",
       "      <td>2020-08-04</td>\n",
       "      <td>bea91c43-8d65-5ef5-ab04-595a5f5cc542</td>\n",
       "      <td>Verified Purchase</td>\n",
       "    </tr>\n",
       "  </tbody>\n",
       "</table>\n",
       "</div>"
      ],
      "text/plain": [
       "                                             product product_company  \\\n",
       "0  OnePlus Nord 5G (Gray Onyx, 8GB RAM, 128GB Sto...         OnePlus   \n",
       "1  OnePlus Nord 5G (Gray Onyx, 8GB RAM, 128GB Sto...         OnePlus   \n",
       "2  OnePlus Nord 5G (Gray Onyx, 8GB RAM, 128GB Sto...         OnePlus   \n",
       "\n",
       "  profile_name                   review_title review_rating  \\\n",
       "0       Nikhil        *Read before you buy!!*             5   \n",
       "1         Amit  Near to mid range  Perfection             5   \n",
       "2    aishwarya                   Great price!             5   \n",
       "\n",
       "                                         review_text  \\\n",
       "0  \\n  Yea..pre-ordered on 28 July, got it on 4 A...   \n",
       "1  \\n  Got it delivered yesterday , used for abou...   \n",
       "2                              \\n  An amazing phone!   \n",
       "\n",
       "                   helpful_count review_country reviewed_at  \\\n",
       "0  721 people found this helpful         India   2020-08-04   \n",
       "1  436 people found this helpful         India   2020-08-03   \n",
       "2  322 people found this helpful         India   2020-08-04   \n",
       "\n",
       "                                    _id  verified_purchase  \n",
       "0  45ca015a-2e39-5650-a174-ba966dd1e51f  Verified Purchase  \n",
       "1  6820f8ae-f3cd-5783-b826-5e5805376047  Verified Purchase  \n",
       "2  bea91c43-8d65-5ef5-ab04-595a5f5cc542  Verified Purchase  "
      ]
     },
     "execution_count": 11,
     "metadata": {},
     "output_type": "execute_result"
    }
   ],
   "source": [
    "# Extract the rating_column into numerical values alone\n",
    "reviews['review_rating'] = reviews['review_rating'].str[:1]\n",
    "reviews.head(3)"
   ]
  },
  {
   "cell_type": "code",
   "execution_count": 12,
   "metadata": {},
   "outputs": [],
   "source": [
    "# remove numbers\n",
    "#input_str = ’Box A contains 3 red and 5 white balls, while Box B contains 4 red and 2 blue balls.’\n",
    "def remove_number(document):\n",
    "    result = re.sub(r'\\d+', '', document)\n",
    "    return result"
   ]
  },
  {
   "cell_type": "code",
   "execution_count": 14,
   "metadata": {},
   "outputs": [
    {
     "name": "stdout",
     "output_type": "stream",
     "text": [
      "numbers:  \n",
      "  i was skeptical about changing from one plus t to nord as  still have more processing power than  and g won't be available in india for next  years, nord has gorilla glass , whereas opt had gorilla glass . \n",
      "\n"
     ]
    }
   ],
   "source": [
    "# remove numbers\n",
    "review_text = review_text.apply(remove_number)\n",
    "print(\"numbers: \",review_text[4],\"\\n\")"
   ]
  },
  {
   "cell_type": "code",
   "execution_count": 13,
   "metadata": {},
   "outputs": [
    {
     "name": "stdout",
     "output_type": "stream",
     "text": [
      "original:  \n",
      "  i was skeptical about changing from one plus 6t to nord as 845 still have more processing power than 765 and 5g won't be available in india for next 2 years, nord has gorilla glass 5, whereas op6t had gorilla glass 6. \n",
      "\n"
     ]
    }
   ],
   "source": [
    "# convert text to lower case \n",
    "review_text = reviews[\"review_text\"].str.lower()\n",
    "print(\"original: \",review_text[4],\"\\n\")"
   ]
  },
  {
   "cell_type": "code",
   "execution_count": 15,
   "metadata": {},
   "outputs": [],
   "source": [
    " import nltk\n",
    "# nltk.download('punkt')"
   ]
  },
  {
   "cell_type": "code",
   "execution_count": 16,
   "metadata": {},
   "outputs": [
    {
     "name": "stdout",
     "output_type": "stream",
     "text": [
      "tokenization:  ['i', 'was', 'skeptical', 'about', 'changing', 'from', 'one', 'plus', 't', 'to', 'nord', 'as', 'still', 'have', 'more', 'processing', 'power', 'than', 'and', 'g', 'wo', \"n't\", 'be', 'available', 'in', 'india', 'for', 'next', 'years', ',', 'nord', 'has', 'gorilla', 'glass', ',', 'whereas', 'opt', 'had', 'gorilla', 'glass', '.'] \n",
      "\n"
     ]
    }
   ],
   "source": [
    "# words Tokenization\n",
    "review_text = review_text.apply(word_tokenize)\n",
    "print(\"tokenization: \",review_text[4],\"\\n\")"
   ]
  },
  {
   "cell_type": "code",
   "execution_count": 17,
   "metadata": {},
   "outputs": [
    {
     "name": "stdout",
     "output_type": "stream",
     "text": [
      "negation:  ['i', 'was', 'skeptical', 'about', 'changing', 'from', 'one', 'plus', 't', 'to', 'nord', 'as', 'still', 'have', 'more', 'processing', 'power', 'than', 'and', 'g', 'wo', 'not_be', 'available', 'in', 'india', 'for', 'next', 'years', ',', 'nord', 'has', 'gorilla', 'glass', ',', 'whereas', 'opt', 'had', 'gorilla', 'glass', '.'] \n",
      "\n"
     ]
    }
   ],
   "source": [
    "# deal with negation\n",
    "review_text = review_text.apply(n_apostrophe_t_handler)\n",
    "print(\"negation: \",review_text[4],\"\\n\")\n"
   ]
  },
  {
   "cell_type": "code",
   "execution_count": 18,
   "metadata": {},
   "outputs": [
    {
     "name": "stdout",
     "output_type": "stream",
     "text": [
      "punctuation:  ['i', 'was', 'skeptical', 'about', 'changing', 'from', 'one', 'plus', 't', 'to', 'nord', 'as', 'still', 'have', 'more', 'processing', 'power', 'than', 'and', 'g', 'wo', 'not_be', 'available', 'in', 'india', 'for', 'next', 'years', 'nord', 'has', 'gorilla', 'glass', 'whereas', 'opt', 'had', 'gorilla', 'glass'] \n",
      "\n"
     ]
    }
   ],
   "source": [
    "# remove punctuation\n",
    "punctuations = list(string.punctuation)\n",
    "review_text = review_text.apply(lambda x: \n",
    "           [i.strip(\"\".join(punctuations)) for i in x if i not in punctuations])\n",
    "print(\"punctuation: \", review_text[4],\"\\n\")"
   ]
  },
  {
   "cell_type": "code",
   "execution_count": 19,
   "metadata": {
    "scrolled": true
   },
   "outputs": [
    {
     "name": "stderr",
     "output_type": "stream",
     "text": [
      "[nltk_data] Downloading package stopwords to\n",
      "[nltk_data]     C:\\Users\\use\\AppData\\Roaming\\nltk_data...\n",
      "[nltk_data]   Package stopwords is already up-to-date!\n"
     ]
    },
    {
     "data": {
      "text/plain": [
       "True"
      ]
     },
     "execution_count": 19,
     "metadata": {},
     "output_type": "execute_result"
    }
   ],
   "source": [
    "import nltk\n",
    "nltk.download('stopwords')"
   ]
  },
  {
   "cell_type": "code",
   "execution_count": 20,
   "metadata": {},
   "outputs": [
    {
     "name": "stdout",
     "output_type": "stream",
     "text": [
      "stop words:  ['skeptical', 'changing', 'one', 'plus', 'nord', 'still', 'processing', 'power', 'g', 'wo', 'not_be', 'available', 'india', 'next', 'years', 'nord', 'gorilla', 'glass', 'whereas', 'opt', 'gorilla', 'glass'] \n",
      "\n"
     ]
    }
   ],
   "source": [
    "# remove stop words \n",
    "stop_words=set(stopwords.words(\"english\"))\n",
    "review_text = review_text.apply(lambda x: \n",
    "                             [item for item in x if item not in stop_words])\n",
    "print(\"stop words: \",review_text[4],\"\\n\")"
   ]
  },
  {
   "cell_type": "code",
   "execution_count": 21,
   "metadata": {},
   "outputs": [
    {
     "name": "stdout",
     "output_type": "stream",
     "text": [
      "stemming:   ['skeptic', 'chang', 'one', 'plu', 'nord', 'still', 'process', 'power', 'g', 'wo', 'not_b', 'avail', 'india', 'next', 'year', 'nord', 'gorilla', 'glass', 'wherea', 'opt', 'gorilla', 'glass'] \n",
      "\n"
     ]
    }
   ],
   "source": [
    "# word stemming\n",
    "stemmer = PorterStemmer()\n",
    "review_text = review_text.apply(lambda x: [stemmer.stem(y) for y in x])\n",
    "print(\"stemming:  \",review_text[4],\"\\n\")"
   ]
  },
  {
   "cell_type": "code",
   "execution_count": 22,
   "metadata": {},
   "outputs": [
    {
     "name": "stderr",
     "output_type": "stream",
     "text": [
      "[nltk_data] Downloading package wordnet to\n",
      "[nltk_data]     C:\\Users\\use\\AppData\\Roaming\\nltk_data...\n",
      "[nltk_data]   Package wordnet is already up-to-date!\n"
     ]
    },
    {
     "data": {
      "text/plain": [
       "True"
      ]
     },
     "execution_count": 22,
     "metadata": {},
     "output_type": "execute_result"
    }
   ],
   "source": [
    "import nltk\n",
    "nltk.download('wordnet')"
   ]
  },
  {
   "cell_type": "code",
   "execution_count": 23,
   "metadata": {},
   "outputs": [
    {
     "name": "stdout",
     "output_type": "stream",
     "text": [
      "lemmatizer:   ['hey', 'guy', 'wo', 'not_go', 'spec', 'detail', 'read', 'read', 'spec', 'got', 'nd', 'august', 'hour', 'use', 'say', 'decis', 'wait', 'worth'] \n",
      "\n"
     ]
    }
   ],
   "source": [
    "# lemmatizer\n",
    "lemmatizer = WordNetLemmatizer()\n",
    "review_text = review_text.apply(lambda x: [lemmatizer.lemmatize(y) for y in x])\n",
    "print(\"lemmatizer:  \",review_text[7],\"\\n\")"
   ]
  },
  {
   "cell_type": "code",
   "execution_count": 24,
   "metadata": {},
   "outputs": [
    {
     "name": "stdout",
     "output_type": "stream",
     "text": [
      "remove empty:   ['got', 'deliv', 'yesterday', 'use', 'hour', 'tell', 'first', 'mid', 'ranger', 'previous', 'use', 'plu', 'edg', 'iphon', 'stone', 'age'] \n",
      "\n"
     ]
    }
   ],
   "source": [
    "# remove empty string\n",
    "for i in range(len(review_text)):\n",
    "    review_text[i] = [x for x in review_text[i] if x]\n",
    "print(\"remove empty:  \",review_text[1],\"\\n\")"
   ]
  },
  {
   "cell_type": "markdown",
   "metadata": {},
   "source": [
    "## Text vectorization"
   ]
  },
  {
   "cell_type": "markdown",
   "metadata": {},
   "source": [
    "### Most frequent words"
   ]
  },
  {
   "cell_type": "code",
   "execution_count": 25,
   "metadata": {},
   "outputs": [],
   "source": [
    "review_clean=review_text"
   ]
  },
  {
   "cell_type": "code",
   "execution_count": 26,
   "metadata": {},
   "outputs": [],
   "source": [
    "from nltk import FreqDist\n",
    "vec=[]\n",
    "for i in range(len(review_clean)):\n",
    "    for j in range(len(review_clean[i])):\n",
    "        vec.append(review_clean[i][j]) \n",
    "freq = FreqDist(vec)"
   ]
  },
  {
   "cell_type": "code",
   "execution_count": 27,
   "metadata": {},
   "outputs": [
    {
     "data": {
      "text/html": [
       "<div>\n",
       "<style scoped>\n",
       "    .dataframe tbody tr th:only-of-type {\n",
       "        vertical-align: middle;\n",
       "    }\n",
       "\n",
       "    .dataframe tbody tr th {\n",
       "        vertical-align: top;\n",
       "    }\n",
       "\n",
       "    .dataframe thead th {\n",
       "        text-align: right;\n",
       "    }\n",
       "</style>\n",
       "<table border=\"1\" class=\"dataframe\">\n",
       "  <thead>\n",
       "    <tr style=\"text-align: right;\">\n",
       "      <th></th>\n",
       "      <th>Word</th>\n",
       "      <th>Frequency</th>\n",
       "    </tr>\n",
       "  </thead>\n",
       "  <tbody>\n",
       "    <tr>\n",
       "      <th>0</th>\n",
       "      <td>good</td>\n",
       "      <td>12157</td>\n",
       "    </tr>\n",
       "    <tr>\n",
       "      <th>1</th>\n",
       "      <td>phone</td>\n",
       "      <td>10786</td>\n",
       "    </tr>\n",
       "    <tr>\n",
       "      <th>2</th>\n",
       "      <td>camera</td>\n",
       "      <td>7406</td>\n",
       "    </tr>\n",
       "    <tr>\n",
       "      <th>3</th>\n",
       "      <td>batteri</td>\n",
       "      <td>5146</td>\n",
       "    </tr>\n",
       "    <tr>\n",
       "      <th>4</th>\n",
       "      <td>qualiti</td>\n",
       "      <td>3939</td>\n",
       "    </tr>\n",
       "  </tbody>\n",
       "</table>\n",
       "</div>"
      ],
      "text/plain": [
       "      Word  Frequency\n",
       "0     good      12157\n",
       "1    phone      10786\n",
       "2   camera       7406\n",
       "3  batteri       5146\n",
       "4  qualiti       3939"
      ]
     },
     "execution_count": 27,
     "metadata": {},
     "output_type": "execute_result"
    }
   ],
   "source": [
    "most_freq = pd.DataFrame(freq.most_common(500),columns=['Word','Frequency'])\n",
    "most_freq.head()"
   ]
  },
  {
   "cell_type": "code",
   "execution_count": 28,
   "metadata": {},
   "outputs": [],
   "source": [
    "vocabulary = most_freq['Word'].tolist()"
   ]
  },
  {
   "cell_type": "markdown",
   "metadata": {},
   "source": [
    "## Clean String"
   ]
  },
  {
   "cell_type": "code",
   "execution_count": 29,
   "metadata": {},
   "outputs": [],
   "source": [
    "def listToString(s):  \n",
    "    # initialize an empty string \n",
    "    str1 = \"\"  \n",
    "    # traverse in the string   \n",
    "    for ele in s:  \n",
    "        str1 += ele + \" \" \n",
    "    # return string   \n",
    "    return str1  "
   ]
  },
  {
   "cell_type": "code",
   "execution_count": 30,
   "metadata": {},
   "outputs": [],
   "source": [
    "review_clean_str = review_clean.apply(listToString)"
   ]
  },
  {
   "cell_type": "code",
   "execution_count": 31,
   "metadata": {},
   "outputs": [
    {
     "data": {
      "text/plain": [
       "0        yea pre-ord juli got august packag nice withou...\n",
       "1        got deliv yesterday use hour tell first mid ra...\n",
       "2                                              amaz phone \n",
       "3                                               brilliant \n",
       "4        skeptic chang one plu nord still process power...\n",
       "                               ...                        \n",
       "30607            qualiti phone great perspect expect high \n",
       "30608                                           recommend \n",
       "30609    redmi amazon engag worst market tactic flash s...\n",
       "30610    face display retent problem use display minut ...\n",
       "30611    front camera qualiti wors compar note pro when...\n",
       "Name: review_text, Length: 30612, dtype: object"
      ]
     },
     "execution_count": 31,
     "metadata": {},
     "output_type": "execute_result"
    }
   ],
   "source": [
    "review_clean_str"
   ]
  },
  {
   "cell_type": "markdown",
   "metadata": {},
   "source": [
    "## Bag of words"
   ]
  },
  {
   "cell_type": "code",
   "execution_count": 32,
   "metadata": {},
   "outputs": [],
   "source": [
    "from sklearn.feature_extraction.text import CountVectorizer\n",
    "\n",
    "cv = CountVectorizer(binary=True, vocabulary = vocabulary)\n",
    "cv.fit(review_clean_str)\n",
    "X_bow = cv.transform(review_clean_str)"
   ]
  },
  {
   "cell_type": "code",
   "execution_count": 33,
   "metadata": {},
   "outputs": [
    {
     "data": {
      "text/plain": [
       "(30612, 500)"
      ]
     },
     "execution_count": 33,
     "metadata": {},
     "output_type": "execute_result"
    }
   ],
   "source": [
    "X_bow.toarray().shape"
   ]
  },
  {
   "cell_type": "code",
   "execution_count": 34,
   "metadata": {},
   "outputs": [
    {
     "data": {
      "text/html": [
       "<div>\n",
       "<style scoped>\n",
       "    .dataframe tbody tr th:only-of-type {\n",
       "        vertical-align: middle;\n",
       "    }\n",
       "\n",
       "    .dataframe tbody tr th {\n",
       "        vertical-align: top;\n",
       "    }\n",
       "\n",
       "    .dataframe thead th {\n",
       "        text-align: right;\n",
       "    }\n",
       "</style>\n",
       "<table border=\"1\" class=\"dataframe\">\n",
       "  <thead>\n",
       "    <tr style=\"text-align: right;\">\n",
       "      <th></th>\n",
       "      <th>good</th>\n",
       "      <th>phone</th>\n",
       "      <th>camera</th>\n",
       "      <th>batteri</th>\n",
       "      <th>qualiti</th>\n",
       "      <th>product</th>\n",
       "      <th>mobil</th>\n",
       "      <th>nice</th>\n",
       "      <th>best</th>\n",
       "      <th>price</th>\n",
       "      <th>...</th>\n",
       "      <th>finish</th>\n",
       "      <th>place</th>\n",
       "      <th>goe</th>\n",
       "      <th>memori</th>\n",
       "      <th>becom</th>\n",
       "      <th>latest</th>\n",
       "      <th>contact</th>\n",
       "      <th>plz</th>\n",
       "      <th>amount</th>\n",
       "      <th>everyon</th>\n",
       "    </tr>\n",
       "    <tr>\n",
       "      <th>profile_name</th>\n",
       "      <th></th>\n",
       "      <th></th>\n",
       "      <th></th>\n",
       "      <th></th>\n",
       "      <th></th>\n",
       "      <th></th>\n",
       "      <th></th>\n",
       "      <th></th>\n",
       "      <th></th>\n",
       "      <th></th>\n",
       "      <th></th>\n",
       "      <th></th>\n",
       "      <th></th>\n",
       "      <th></th>\n",
       "      <th></th>\n",
       "      <th></th>\n",
       "      <th></th>\n",
       "      <th></th>\n",
       "      <th></th>\n",
       "      <th></th>\n",
       "      <th></th>\n",
       "    </tr>\n",
       "  </thead>\n",
       "  <tbody>\n",
       "    <tr>\n",
       "      <th>Nikhil</th>\n",
       "      <td>0</td>\n",
       "      <td>0</td>\n",
       "      <td>0</td>\n",
       "      <td>0</td>\n",
       "      <td>0</td>\n",
       "      <td>0</td>\n",
       "      <td>0</td>\n",
       "      <td>1</td>\n",
       "      <td>0</td>\n",
       "      <td>0</td>\n",
       "      <td>...</td>\n",
       "      <td>0</td>\n",
       "      <td>0</td>\n",
       "      <td>0</td>\n",
       "      <td>0</td>\n",
       "      <td>0</td>\n",
       "      <td>0</td>\n",
       "      <td>0</td>\n",
       "      <td>0</td>\n",
       "      <td>0</td>\n",
       "      <td>0</td>\n",
       "    </tr>\n",
       "    <tr>\n",
       "      <th>Amit</th>\n",
       "      <td>0</td>\n",
       "      <td>0</td>\n",
       "      <td>0</td>\n",
       "      <td>0</td>\n",
       "      <td>0</td>\n",
       "      <td>0</td>\n",
       "      <td>0</td>\n",
       "      <td>0</td>\n",
       "      <td>0</td>\n",
       "      <td>0</td>\n",
       "      <td>...</td>\n",
       "      <td>0</td>\n",
       "      <td>0</td>\n",
       "      <td>0</td>\n",
       "      <td>0</td>\n",
       "      <td>0</td>\n",
       "      <td>0</td>\n",
       "      <td>0</td>\n",
       "      <td>0</td>\n",
       "      <td>0</td>\n",
       "      <td>0</td>\n",
       "    </tr>\n",
       "    <tr>\n",
       "      <th>aishwarya</th>\n",
       "      <td>0</td>\n",
       "      <td>1</td>\n",
       "      <td>0</td>\n",
       "      <td>0</td>\n",
       "      <td>0</td>\n",
       "      <td>0</td>\n",
       "      <td>0</td>\n",
       "      <td>0</td>\n",
       "      <td>0</td>\n",
       "      <td>0</td>\n",
       "      <td>...</td>\n",
       "      <td>0</td>\n",
       "      <td>0</td>\n",
       "      <td>0</td>\n",
       "      <td>0</td>\n",
       "      <td>0</td>\n",
       "      <td>0</td>\n",
       "      <td>0</td>\n",
       "      <td>0</td>\n",
       "      <td>0</td>\n",
       "      <td>0</td>\n",
       "    </tr>\n",
       "    <tr>\n",
       "      <th>vasu a.</th>\n",
       "      <td>0</td>\n",
       "      <td>0</td>\n",
       "      <td>0</td>\n",
       "      <td>0</td>\n",
       "      <td>0</td>\n",
       "      <td>0</td>\n",
       "      <td>0</td>\n",
       "      <td>0</td>\n",
       "      <td>0</td>\n",
       "      <td>0</td>\n",
       "      <td>...</td>\n",
       "      <td>0</td>\n",
       "      <td>0</td>\n",
       "      <td>0</td>\n",
       "      <td>0</td>\n",
       "      <td>0</td>\n",
       "      <td>0</td>\n",
       "      <td>0</td>\n",
       "      <td>0</td>\n",
       "      <td>0</td>\n",
       "      <td>0</td>\n",
       "    </tr>\n",
       "    <tr>\n",
       "      <th>Amazon Customer</th>\n",
       "      <td>0</td>\n",
       "      <td>0</td>\n",
       "      <td>0</td>\n",
       "      <td>0</td>\n",
       "      <td>0</td>\n",
       "      <td>0</td>\n",
       "      <td>0</td>\n",
       "      <td>0</td>\n",
       "      <td>0</td>\n",
       "      <td>0</td>\n",
       "      <td>...</td>\n",
       "      <td>0</td>\n",
       "      <td>0</td>\n",
       "      <td>0</td>\n",
       "      <td>0</td>\n",
       "      <td>0</td>\n",
       "      <td>0</td>\n",
       "      <td>0</td>\n",
       "      <td>0</td>\n",
       "      <td>0</td>\n",
       "      <td>0</td>\n",
       "    </tr>\n",
       "    <tr>\n",
       "      <th>Manmohan Singh Tanwar</th>\n",
       "      <td>0</td>\n",
       "      <td>0</td>\n",
       "      <td>0</td>\n",
       "      <td>0</td>\n",
       "      <td>0</td>\n",
       "      <td>0</td>\n",
       "      <td>0</td>\n",
       "      <td>0</td>\n",
       "      <td>0</td>\n",
       "      <td>0</td>\n",
       "      <td>...</td>\n",
       "      <td>0</td>\n",
       "      <td>0</td>\n",
       "      <td>0</td>\n",
       "      <td>0</td>\n",
       "      <td>0</td>\n",
       "      <td>0</td>\n",
       "      <td>0</td>\n",
       "      <td>0</td>\n",
       "      <td>0</td>\n",
       "      <td>0</td>\n",
       "    </tr>\n",
       "    <tr>\n",
       "      <th>Abhishek</th>\n",
       "      <td>0</td>\n",
       "      <td>1</td>\n",
       "      <td>0</td>\n",
       "      <td>0</td>\n",
       "      <td>0</td>\n",
       "      <td>0</td>\n",
       "      <td>0</td>\n",
       "      <td>0</td>\n",
       "      <td>0</td>\n",
       "      <td>0</td>\n",
       "      <td>...</td>\n",
       "      <td>0</td>\n",
       "      <td>0</td>\n",
       "      <td>0</td>\n",
       "      <td>0</td>\n",
       "      <td>0</td>\n",
       "      <td>0</td>\n",
       "      <td>0</td>\n",
       "      <td>0</td>\n",
       "      <td>0</td>\n",
       "      <td>0</td>\n",
       "    </tr>\n",
       "    <tr>\n",
       "      <th>Sahil kalsi</th>\n",
       "      <td>0</td>\n",
       "      <td>0</td>\n",
       "      <td>0</td>\n",
       "      <td>0</td>\n",
       "      <td>0</td>\n",
       "      <td>0</td>\n",
       "      <td>0</td>\n",
       "      <td>0</td>\n",
       "      <td>0</td>\n",
       "      <td>0</td>\n",
       "      <td>...</td>\n",
       "      <td>0</td>\n",
       "      <td>0</td>\n",
       "      <td>0</td>\n",
       "      <td>0</td>\n",
       "      <td>0</td>\n",
       "      <td>0</td>\n",
       "      <td>0</td>\n",
       "      <td>0</td>\n",
       "      <td>0</td>\n",
       "      <td>0</td>\n",
       "    </tr>\n",
       "    <tr>\n",
       "      <th>shristi bhatt</th>\n",
       "      <td>0</td>\n",
       "      <td>1</td>\n",
       "      <td>1</td>\n",
       "      <td>0</td>\n",
       "      <td>1</td>\n",
       "      <td>0</td>\n",
       "      <td>0</td>\n",
       "      <td>0</td>\n",
       "      <td>0</td>\n",
       "      <td>0</td>\n",
       "      <td>...</td>\n",
       "      <td>0</td>\n",
       "      <td>0</td>\n",
       "      <td>0</td>\n",
       "      <td>0</td>\n",
       "      <td>0</td>\n",
       "      <td>0</td>\n",
       "      <td>0</td>\n",
       "      <td>0</td>\n",
       "      <td>0</td>\n",
       "      <td>0</td>\n",
       "    </tr>\n",
       "    <tr>\n",
       "      <th>SHYAM SINGH</th>\n",
       "      <td>1</td>\n",
       "      <td>0</td>\n",
       "      <td>0</td>\n",
       "      <td>0</td>\n",
       "      <td>0</td>\n",
       "      <td>0</td>\n",
       "      <td>1</td>\n",
       "      <td>0</td>\n",
       "      <td>0</td>\n",
       "      <td>0</td>\n",
       "      <td>...</td>\n",
       "      <td>0</td>\n",
       "      <td>0</td>\n",
       "      <td>0</td>\n",
       "      <td>0</td>\n",
       "      <td>0</td>\n",
       "      <td>0</td>\n",
       "      <td>0</td>\n",
       "      <td>0</td>\n",
       "      <td>0</td>\n",
       "      <td>0</td>\n",
       "    </tr>\n",
       "  </tbody>\n",
       "</table>\n",
       "<p>10 rows × 500 columns</p>\n",
       "</div>"
      ],
      "text/plain": [
       "                       good  phone  camera  batteri  qualiti  product  mobil  \\\n",
       "profile_name                                                                   \n",
       "Nikhil                    0      0       0        0        0        0      0   \n",
       "Amit                      0      0       0        0        0        0      0   \n",
       "aishwarya                 0      1       0        0        0        0      0   \n",
       "vasu a.                   0      0       0        0        0        0      0   \n",
       "Amazon Customer           0      0       0        0        0        0      0   \n",
       "Manmohan Singh Tanwar     0      0       0        0        0        0      0   \n",
       "Abhishek                  0      1       0        0        0        0      0   \n",
       "Sahil kalsi               0      0       0        0        0        0      0   \n",
       "shristi bhatt             0      1       1        0        1        0      0   \n",
       "SHYAM SINGH               1      0       0        0        0        0      1   \n",
       "\n",
       "                       nice  best  price  ...  finish  place  goe  memori  \\\n",
       "profile_name                              ...                               \n",
       "Nikhil                    1     0      0  ...       0      0    0       0   \n",
       "Amit                      0     0      0  ...       0      0    0       0   \n",
       "aishwarya                 0     0      0  ...       0      0    0       0   \n",
       "vasu a.                   0     0      0  ...       0      0    0       0   \n",
       "Amazon Customer           0     0      0  ...       0      0    0       0   \n",
       "Manmohan Singh Tanwar     0     0      0  ...       0      0    0       0   \n",
       "Abhishek                  0     0      0  ...       0      0    0       0   \n",
       "Sahil kalsi               0     0      0  ...       0      0    0       0   \n",
       "shristi bhatt             0     0      0  ...       0      0    0       0   \n",
       "SHYAM SINGH               0     0      0  ...       0      0    0       0   \n",
       "\n",
       "                       becom  latest  contact  plz  amount  everyon  \n",
       "profile_name                                                         \n",
       "Nikhil                     0       0        0    0       0        0  \n",
       "Amit                       0       0        0    0       0        0  \n",
       "aishwarya                  0       0        0    0       0        0  \n",
       "vasu a.                    0       0        0    0       0        0  \n",
       "Amazon Customer            0       0        0    0       0        0  \n",
       "Manmohan Singh Tanwar      0       0        0    0       0        0  \n",
       "Abhishek                   0       0        0    0       0        0  \n",
       "Sahil kalsi                0       0        0    0       0        0  \n",
       "shristi bhatt              0       0        0    0       0        0  \n",
       "SHYAM SINGH                0       0        0    0       0        0  \n",
       "\n",
       "[10 rows x 500 columns]"
      ]
     },
     "execution_count": 34,
     "metadata": {},
     "output_type": "execute_result"
    }
   ],
   "source": [
    "bag_of_words_df = pd.DataFrame(X_bow.toarray(), index = reviews['profile_name'], columns = vocabulary)\n",
    "bag_of_words_df.head(10)"
   ]
  },
  {
   "cell_type": "markdown",
   "metadata": {},
   "source": [
    "### TF-IDF"
   ]
  },
  {
   "cell_type": "code",
   "execution_count": 35,
   "metadata": {},
   "outputs": [],
   "source": [
    "from sklearn.feature_extraction.text import TfidfVectorizer"
   ]
  },
  {
   "cell_type": "code",
   "execution_count": 36,
   "metadata": {},
   "outputs": [],
   "source": [
    "tfidf_model = TfidfVectorizer(ngram_range = (1, 1), vocabulary = vocabulary).fit(review_clean_str)"
   ]
  },
  {
   "cell_type": "code",
   "execution_count": 37,
   "metadata": {},
   "outputs": [],
   "source": [
    "result = pd.DataFrame({'word': tfidf_model.get_feature_names(), 'tfidf': list(tfidf_model.idf_)})"
   ]
  },
  {
   "cell_type": "code",
   "execution_count": 38,
   "metadata": {},
   "outputs": [
    {
     "data": {
      "text/html": [
       "<div>\n",
       "<style scoped>\n",
       "    .dataframe tbody tr th:only-of-type {\n",
       "        vertical-align: middle;\n",
       "    }\n",
       "\n",
       "    .dataframe tbody tr th {\n",
       "        vertical-align: top;\n",
       "    }\n",
       "\n",
       "    .dataframe thead th {\n",
       "        text-align: right;\n",
       "    }\n",
       "</style>\n",
       "<table border=\"1\" class=\"dataframe\">\n",
       "  <thead>\n",
       "    <tr style=\"text-align: right;\">\n",
       "      <th></th>\n",
       "      <th>word</th>\n",
       "      <th>tfidf</th>\n",
       "    </tr>\n",
       "  </thead>\n",
       "  <tbody>\n",
       "    <tr>\n",
       "      <th>0</th>\n",
       "      <td>good</td>\n",
       "      <td>2.106220</td>\n",
       "    </tr>\n",
       "    <tr>\n",
       "      <th>1</th>\n",
       "      <td>phone</td>\n",
       "      <td>2.275260</td>\n",
       "    </tr>\n",
       "    <tr>\n",
       "      <th>2</th>\n",
       "      <td>camera</td>\n",
       "      <td>2.557965</td>\n",
       "    </tr>\n",
       "    <tr>\n",
       "      <th>3</th>\n",
       "      <td>batteri</td>\n",
       "      <td>2.859917</td>\n",
       "    </tr>\n",
       "    <tr>\n",
       "      <th>4</th>\n",
       "      <td>qualiti</td>\n",
       "      <td>3.142437</td>\n",
       "    </tr>\n",
       "  </tbody>\n",
       "</table>\n",
       "</div>"
      ],
      "text/plain": [
       "      word     tfidf\n",
       "0     good  2.106220\n",
       "1    phone  2.275260\n",
       "2   camera  2.557965\n",
       "3  batteri  2.859917\n",
       "4  qualiti  3.142437"
      ]
     },
     "execution_count": 38,
     "metadata": {},
     "output_type": "execute_result"
    }
   ],
   "source": [
    "result.head()"
   ]
  },
  {
   "cell_type": "markdown",
   "metadata": {},
   "source": [
    "### N-GRAMS"
   ]
  },
  {
   "cell_type": "code",
   "execution_count": 39,
   "metadata": {},
   "outputs": [],
   "source": [
    "tfidf_ngram = TfidfVectorizer(ngram_range = (1, 2), max_features = 1000).fit(review_clean_str)"
   ]
  },
  {
   "cell_type": "code",
   "execution_count": 40,
   "metadata": {},
   "outputs": [],
   "source": [
    "result2 = pd.DataFrame({'word': tfidf_ngram.get_feature_names(), 'tfidf': list(tfidf_ngram.idf_)})"
   ]
  },
  {
   "cell_type": "code",
   "execution_count": 41,
   "metadata": {},
   "outputs": [
    {
     "data": {
      "text/html": [
       "<div>\n",
       "<style scoped>\n",
       "    .dataframe tbody tr th:only-of-type {\n",
       "        vertical-align: middle;\n",
       "    }\n",
       "\n",
       "    .dataframe tbody tr th {\n",
       "        vertical-align: top;\n",
       "    }\n",
       "\n",
       "    .dataframe thead th {\n",
       "        text-align: right;\n",
       "    }\n",
       "</style>\n",
       "<table border=\"1\" class=\"dataframe\">\n",
       "  <thead>\n",
       "    <tr style=\"text-align: right;\">\n",
       "      <th></th>\n",
       "      <th>word</th>\n",
       "      <th>tfidf</th>\n",
       "    </tr>\n",
       "  </thead>\n",
       "  <tbody>\n",
       "    <tr>\n",
       "      <th>0</th>\n",
       "      <td>abl</td>\n",
       "      <td>6.898363</td>\n",
       "    </tr>\n",
       "    <tr>\n",
       "      <th>1</th>\n",
       "      <td>absolut</td>\n",
       "      <td>6.628700</td>\n",
       "    </tr>\n",
       "    <tr>\n",
       "      <th>2</th>\n",
       "      <td>accord</td>\n",
       "      <td>6.818321</td>\n",
       "    </tr>\n",
       "    <tr>\n",
       "      <th>3</th>\n",
       "      <td>actual</td>\n",
       "      <td>7.038721</td>\n",
       "    </tr>\n",
       "    <tr>\n",
       "      <th>4</th>\n",
       "      <td>ad</td>\n",
       "      <td>6.851843</td>\n",
       "    </tr>\n",
       "  </tbody>\n",
       "</table>\n",
       "</div>"
      ],
      "text/plain": [
       "      word     tfidf\n",
       "0      abl  6.898363\n",
       "1  absolut  6.628700\n",
       "2   accord  6.818321\n",
       "3   actual  7.038721\n",
       "4       ad  6.851843"
      ]
     },
     "execution_count": 41,
     "metadata": {},
     "output_type": "execute_result"
    }
   ],
   "source": [
    "result2.head()"
   ]
  },
  {
   "cell_type": "markdown",
   "metadata": {},
   "source": [
    "## SENTIMENT ANALYSIS"
   ]
  },
  {
   "cell_type": "markdown",
   "metadata": {},
   "source": [
    "#### Sentiment analysis is done with MOST FREQUENTLY OCCURED text and PREPROCESSED DATA"
   ]
  },
  {
   "cell_type": "code",
   "execution_count": 42,
   "metadata": {},
   "outputs": [],
   "source": [
    "reviews['review_clean_list'] = review_clean\n",
    "reviews['review_clean_str'] = review_clean_str"
   ]
  },
  {
   "cell_type": "code",
   "execution_count": 43,
   "metadata": {},
   "outputs": [],
   "source": [
    "#conda install -c conda-forge textblob"
   ]
  },
  {
   "cell_type": "code",
   "execution_count": 44,
   "metadata": {},
   "outputs": [
    {
     "name": "stderr",
     "output_type": "stream",
     "text": [
      "<ipython-input-44-dd7cf0d2d792>:7: SettingWithCopyWarning: \n",
      "A value is trying to be set on a copy of a slice from a DataFrame\n",
      "\n",
      "See the caveats in the documentation: https://pandas.pydata.org/pandas-docs/stable/user_guide/indexing.html#returning-a-view-versus-a-copy\n",
      "  reviews['sentiment'][reviews['polarity'] >= 0] = 'positive'\n",
      "<ipython-input-44-dd7cf0d2d792>:9: SettingWithCopyWarning: \n",
      "A value is trying to be set on a copy of a slice from a DataFrame\n",
      "\n",
      "See the caveats in the documentation: https://pandas.pydata.org/pandas-docs/stable/user_guide/indexing.html#returning-a-view-versus-a-copy\n",
      "  reviews['sentiment'][reviews['polarity'] < 0] = 'negative'\n"
     ]
    }
   ],
   "source": [
    "from textblob import TextBlob\n",
    "# get the polarity of each text\n",
    "reviews['polarity'] = reviews.review_clean_str.map(lambda text: TextBlob(text).sentiment.polarity)\n",
    "\n",
    "# classify sentiment into positive and negative ones\n",
    "reviews['sentiment'] = ''\n",
    "reviews['sentiment'][reviews['polarity'] >= 0] = 'positive'\n",
    "#test['sentiment'][test['polarity'] == 0] = 'neutral'\n",
    "reviews['sentiment'][reviews['polarity'] < 0] = 'negative'"
   ]
  },
  {
   "cell_type": "code",
   "execution_count": 45,
   "metadata": {},
   "outputs": [
    {
     "data": {
      "text/html": [
       "<div>\n",
       "<style scoped>\n",
       "    .dataframe tbody tr th:only-of-type {\n",
       "        vertical-align: middle;\n",
       "    }\n",
       "\n",
       "    .dataframe tbody tr th {\n",
       "        vertical-align: top;\n",
       "    }\n",
       "\n",
       "    .dataframe thead th {\n",
       "        text-align: right;\n",
       "    }\n",
       "</style>\n",
       "<table border=\"1\" class=\"dataframe\">\n",
       "  <thead>\n",
       "    <tr style=\"text-align: right;\">\n",
       "      <th></th>\n",
       "      <th>product</th>\n",
       "      <th>product_company</th>\n",
       "      <th>profile_name</th>\n",
       "      <th>review_title</th>\n",
       "      <th>review_rating</th>\n",
       "      <th>review_text</th>\n",
       "      <th>helpful_count</th>\n",
       "      <th>review_country</th>\n",
       "      <th>reviewed_at</th>\n",
       "      <th>_id</th>\n",
       "      <th>verified_purchase</th>\n",
       "      <th>review_clean_list</th>\n",
       "      <th>review_clean_str</th>\n",
       "      <th>polarity</th>\n",
       "      <th>sentiment</th>\n",
       "    </tr>\n",
       "  </thead>\n",
       "  <tbody>\n",
       "    <tr>\n",
       "      <th>0</th>\n",
       "      <td>OnePlus Nord 5G (Gray Onyx, 8GB RAM, 128GB Sto...</td>\n",
       "      <td>OnePlus</td>\n",
       "      <td>Nikhil</td>\n",
       "      <td>*Read before you buy!!*</td>\n",
       "      <td>5</td>\n",
       "      <td>\\n  Yea..pre-ordered on 28 July, got it on 4 A...</td>\n",
       "      <td>721 people found this helpful</td>\n",
       "      <td>India</td>\n",
       "      <td>2020-08-04</td>\n",
       "      <td>45ca015a-2e39-5650-a174-ba966dd1e51f</td>\n",
       "      <td>Verified Purchase</td>\n",
       "      <td>[yea, pre-ord, juli, got, august, packag, nice...</td>\n",
       "      <td>yea pre-ord juli got august packag nice withou...</td>\n",
       "      <td>0.425000</td>\n",
       "      <td>positive</td>\n",
       "    </tr>\n",
       "    <tr>\n",
       "      <th>1</th>\n",
       "      <td>OnePlus Nord 5G (Gray Onyx, 8GB RAM, 128GB Sto...</td>\n",
       "      <td>OnePlus</td>\n",
       "      <td>Amit</td>\n",
       "      <td>Near to mid range  Perfection</td>\n",
       "      <td>5</td>\n",
       "      <td>\\n  Got it delivered yesterday , used for abou...</td>\n",
       "      <td>436 people found this helpful</td>\n",
       "      <td>India</td>\n",
       "      <td>2020-08-03</td>\n",
       "      <td>6820f8ae-f3cd-5783-b826-5e5805376047</td>\n",
       "      <td>Verified Purchase</td>\n",
       "      <td>[got, deliv, yesterday, use, hour, tell, first...</td>\n",
       "      <td>got deliv yesterday use hour tell first mid ra...</td>\n",
       "      <td>0.027778</td>\n",
       "      <td>positive</td>\n",
       "    </tr>\n",
       "  </tbody>\n",
       "</table>\n",
       "</div>"
      ],
      "text/plain": [
       "                                             product product_company  \\\n",
       "0  OnePlus Nord 5G (Gray Onyx, 8GB RAM, 128GB Sto...         OnePlus   \n",
       "1  OnePlus Nord 5G (Gray Onyx, 8GB RAM, 128GB Sto...         OnePlus   \n",
       "\n",
       "  profile_name                   review_title review_rating  \\\n",
       "0       Nikhil        *Read before you buy!!*             5   \n",
       "1         Amit  Near to mid range  Perfection             5   \n",
       "\n",
       "                                         review_text  \\\n",
       "0  \\n  Yea..pre-ordered on 28 July, got it on 4 A...   \n",
       "1  \\n  Got it delivered yesterday , used for abou...   \n",
       "\n",
       "                   helpful_count review_country reviewed_at  \\\n",
       "0  721 people found this helpful         India   2020-08-04   \n",
       "1  436 people found this helpful         India   2020-08-03   \n",
       "\n",
       "                                    _id  verified_purchase  \\\n",
       "0  45ca015a-2e39-5650-a174-ba966dd1e51f  Verified Purchase   \n",
       "1  6820f8ae-f3cd-5783-b826-5e5805376047  Verified Purchase   \n",
       "\n",
       "                                   review_clean_list  \\\n",
       "0  [yea, pre-ord, juli, got, august, packag, nice...   \n",
       "1  [got, deliv, yesterday, use, hour, tell, first...   \n",
       "\n",
       "                                    review_clean_str  polarity sentiment  \n",
       "0  yea pre-ord juli got august packag nice withou...  0.425000  positive  \n",
       "1  got deliv yesterday use hour tell first mid ra...  0.027778  positive  "
      ]
     },
     "execution_count": 45,
     "metadata": {},
     "output_type": "execute_result"
    }
   ],
   "source": [
    "reviews.head(2)"
   ]
  },
  {
   "cell_type": "code",
   "execution_count": 46,
   "metadata": {},
   "outputs": [
    {
     "data": {
      "text/plain": [
       "sentiment\n",
       "negative     2339\n",
       "positive    28273\n",
       "Name: review_text, dtype: int64"
      ]
     },
     "execution_count": 46,
     "metadata": {},
     "output_type": "execute_result"
    }
   ],
   "source": [
    "reviews.groupby('sentiment').review_text.count()"
   ]
  },
  {
   "cell_type": "markdown",
   "metadata": {},
   "source": [
    "## Modeling"
   ]
  },
  {
   "cell_type": "code",
   "execution_count": 47,
   "metadata": {},
   "outputs": [],
   "source": [
    "from sklearn.model_selection import train_test_split, GridSearchCV\n",
    "from sklearn.linear_model import LogisticRegression\n",
    "import numpy as np\n",
    "import matplotlib.pyplot as plt\n",
    "import matplotlib\n",
    "import pandas as pd\n",
    "from sklearn import metrics\n",
    "from sklearn import model_selection\n",
    "from sklearn import tree\n",
    "from sklearn.ensemble import RandomForestClassifier\n",
    "from sklearn import linear_model, datasets\n",
    "from sklearn.metrics import confusion_matrix"
   ]
  },
  {
   "cell_type": "code",
   "execution_count": 48,
   "metadata": {},
   "outputs": [],
   "source": [
    "dummy_y = pd.get_dummies(reviews['sentiment'],drop_first=True)   #reduce one degree of freedom\n",
    "reviews['dummy_y'] = dummy_y"
   ]
  },
  {
   "cell_type": "code",
   "execution_count": 49,
   "metadata": {},
   "outputs": [],
   "source": [
    "x = bag_of_words_df\n",
    "y = reviews['dummy_y']\n",
    "X_train, X_test, y_train, y_test = train_test_split(x, y ,test_size=0.3, random_state=42)"
   ]
  },
  {
   "cell_type": "markdown",
   "metadata": {},
   "source": [
    "### SVM CLASSIFICATION"
   ]
  },
  {
   "cell_type": "code",
   "execution_count": 50,
   "metadata": {},
   "outputs": [],
   "source": [
    "import numpy as np\n",
    "import pandas as pd\n",
    "import matplotlib.pyplot as plt\n",
    "\n",
    "import sqlite3\n",
    "import pickle\n",
    "import time\n",
    "from sklearn.model_selection import train_test_split, GridSearchCV\n",
    "from sklearn.feature_extraction.text import CountVectorizer\n",
    "from sklearn.preprocessing import StandardScaler\n",
    "from sklearn.svm import SVC\n",
    "from sklearn.metrics import accuracy_score, confusion_matrix"
   ]
  },
  {
   "cell_type": "markdown",
   "metadata": {},
   "source": [
    "## Using subset of data"
   ]
  },
  {
   "cell_type": "code",
   "execution_count": 51,
   "metadata": {},
   "outputs": [
    {
     "data": {
      "text/html": [
       "<div>\n",
       "<style scoped>\n",
       "    .dataframe tbody tr th:only-of-type {\n",
       "        vertical-align: middle;\n",
       "    }\n",
       "\n",
       "    .dataframe tbody tr th {\n",
       "        vertical-align: top;\n",
       "    }\n",
       "\n",
       "    .dataframe thead th {\n",
       "        text-align: right;\n",
       "    }\n",
       "</style>\n",
       "<table border=\"1\" class=\"dataframe\">\n",
       "  <thead>\n",
       "    <tr style=\"text-align: right;\">\n",
       "      <th></th>\n",
       "      <th>review_rating</th>\n",
       "      <th>sentiment</th>\n",
       "      <th>reviewed_at</th>\n",
       "      <th>review_clean_str</th>\n",
       "      <th>dummy_y</th>\n",
       "      <th>polarity</th>\n",
       "    </tr>\n",
       "  </thead>\n",
       "  <tbody>\n",
       "    <tr>\n",
       "      <th>22185</th>\n",
       "      <td>3</td>\n",
       "      <td>positive</td>\n",
       "      <td>2019-11-06</td>\n",
       "      <td>ok</td>\n",
       "      <td>1</td>\n",
       "      <td>0.500000</td>\n",
       "    </tr>\n",
       "    <tr>\n",
       "      <th>14885</th>\n",
       "      <td>4</td>\n",
       "      <td>positive</td>\n",
       "      <td>2019-11-06</td>\n",
       "      <td>last year use mi phone nice phone budget price</td>\n",
       "      <td>1</td>\n",
       "      <td>0.300000</td>\n",
       "    </tr>\n",
       "    <tr>\n",
       "      <th>9470</th>\n",
       "      <td>5</td>\n",
       "      <td>positive</td>\n",
       "      <td>2019-11-06</td>\n",
       "      <td>love phone purchas bank discount gb gb blue va...</td>\n",
       "      <td>1</td>\n",
       "      <td>0.277778</td>\n",
       "    </tr>\n",
       "    <tr>\n",
       "      <th>9469</th>\n",
       "      <td>5</td>\n",
       "      <td>positive</td>\n",
       "      <td>2019-11-06</td>\n",
       "      <td>febula perform redmi note love 😍</td>\n",
       "      <td>1</td>\n",
       "      <td>0.500000</td>\n",
       "    </tr>\n",
       "    <tr>\n",
       "      <th>14348</th>\n",
       "      <td>5</td>\n",
       "      <td>positive</td>\n",
       "      <td>2019-11-06</td>\n",
       "      <td>camera bettari sound speed smooth superb valu ...</td>\n",
       "      <td>1</td>\n",
       "      <td>0.600000</td>\n",
       "    </tr>\n",
       "    <tr>\n",
       "      <th>10064</th>\n",
       "      <td>5</td>\n",
       "      <td>positive</td>\n",
       "      <td>2019-11-06</td>\n",
       "      <td>exlent</td>\n",
       "      <td>1</td>\n",
       "      <td>0.000000</td>\n",
       "    </tr>\n",
       "    <tr>\n",
       "      <th>13028</th>\n",
       "      <td>5</td>\n",
       "      <td>positive</td>\n",
       "      <td>2019-11-06</td>\n",
       "      <td>fantast phone</td>\n",
       "      <td>1</td>\n",
       "      <td>0.000000</td>\n",
       "    </tr>\n",
       "    <tr>\n",
       "      <th>9578</th>\n",
       "      <td>5</td>\n",
       "      <td>positive</td>\n",
       "      <td>2019-11-06</td>\n",
       "      <td>best k</td>\n",
       "      <td>1</td>\n",
       "      <td>1.000000</td>\n",
       "    </tr>\n",
       "    <tr>\n",
       "      <th>10550</th>\n",
       "      <td>5</td>\n",
       "      <td>positive</td>\n",
       "      <td>2019-11-06</td>\n",
       "      <td>quick servic genuin product</td>\n",
       "      <td>1</td>\n",
       "      <td>0.333333</td>\n",
       "    </tr>\n",
       "    <tr>\n",
       "      <th>22003</th>\n",
       "      <td>3</td>\n",
       "      <td>positive</td>\n",
       "      <td>2019-11-06</td>\n",
       "      <td>phone googl assist work ok googl without touch...</td>\n",
       "      <td>1</td>\n",
       "      <td>0.500000</td>\n",
       "    </tr>\n",
       "  </tbody>\n",
       "</table>\n",
       "</div>"
      ],
      "text/plain": [
       "      review_rating sentiment reviewed_at  \\\n",
       "22185             3  positive  2019-11-06   \n",
       "14885             4  positive  2019-11-06   \n",
       "9470              5  positive  2019-11-06   \n",
       "9469              5  positive  2019-11-06   \n",
       "14348             5  positive  2019-11-06   \n",
       "10064             5  positive  2019-11-06   \n",
       "13028             5  positive  2019-11-06   \n",
       "9578              5  positive  2019-11-06   \n",
       "10550             5  positive  2019-11-06   \n",
       "22003             3  positive  2019-11-06   \n",
       "\n",
       "                                        review_clean_str  dummy_y  polarity  \n",
       "22185                                                ok         1  0.500000  \n",
       "14885    last year use mi phone nice phone budget price         1  0.300000  \n",
       "9470   love phone purchas bank discount gb gb blue va...        1  0.277778  \n",
       "9469                   febula perform redmi note love 😍         1  0.500000  \n",
       "14348  camera bettari sound speed smooth superb valu ...        1  0.600000  \n",
       "10064                                            exlent         1  0.000000  \n",
       "13028                                     fantast phone         1  0.000000  \n",
       "9578                                             best k         1  1.000000  \n",
       "10550                       quick servic genuin product         1  0.333333  \n",
       "22003  phone googl assist work ok googl without touch...        1  0.500000  "
      ]
     },
     "execution_count": 51,
     "metadata": {},
     "output_type": "execute_result"
    }
   ],
   "source": [
    "data = reviews[['review_rating','sentiment', 'reviewed_at', 'review_clean_str','dummy_y','polarity']].copy()\n",
    "data.sort_values('reviewed_at', inplace = True)\n",
    "data.head(10)"
   ]
  },
  {
   "cell_type": "markdown",
   "metadata": {},
   "source": [
    "### Sentiment values"
   ]
  },
  {
   "cell_type": "code",
   "execution_count": 52,
   "metadata": {},
   "outputs": [
    {
     "data": {
      "text/plain": [
       "positive    28273\n",
       "negative     2339\n",
       "Name: sentiment, dtype: int64"
      ]
     },
     "execution_count": 52,
     "metadata": {},
     "output_type": "execute_result"
    }
   ],
   "source": [
    "data['sentiment'].value_counts()"
   ]
  },
  {
   "cell_type": "markdown",
   "metadata": {},
   "source": [
    "### Seperating target variables"
   ]
  },
  {
   "cell_type": "code",
   "execution_count": 53,
   "metadata": {},
   "outputs": [],
   "source": [
    "X = data['review_clean_str']\n",
    "y = data['sentiment']"
   ]
  },
  {
   "cell_type": "markdown",
   "metadata": {},
   "source": [
    "### svm trial"
   ]
  },
  {
   "cell_type": "code",
   "execution_count": 54,
   "metadata": {},
   "outputs": [],
   "source": [
    "from sklearn.model_selection import train_test_split\n",
    "X = data['review_clean_str']\n",
    "y = data['sentiment']"
   ]
  },
  {
   "cell_type": "code",
   "execution_count": 55,
   "metadata": {},
   "outputs": [],
   "source": [
    "X_train, X_test, y_train, y_test = train_test_split(X,y,test_size=0.3,random_state=42)"
   ]
  },
  {
   "cell_type": "code",
   "execution_count": 56,
   "metadata": {},
   "outputs": [],
   "source": [
    "from sklearn.pipeline import Pipeline\n",
    "from sklearn.feature_extraction.text import TfidfVectorizer\n",
    "from sklearn.svm import LinearSVC"
   ]
  },
  {
   "cell_type": "code",
   "execution_count": 57,
   "metadata": {},
   "outputs": [],
   "source": [
    "clf = Pipeline([('tfidf',TfidfVectorizer()),('lsvc',LinearSVC())])"
   ]
  },
  {
   "cell_type": "code",
   "execution_count": 58,
   "metadata": {},
   "outputs": [
    {
     "data": {
      "text/plain": [
       "Pipeline(steps=[('tfidf', TfidfVectorizer()), ('lsvc', LinearSVC())])"
      ]
     },
     "execution_count": 58,
     "metadata": {},
     "output_type": "execute_result"
    }
   ],
   "source": [
    "clf.fit(X_train,y_train)"
   ]
  },
  {
   "cell_type": "code",
   "execution_count": 59,
   "metadata": {},
   "outputs": [],
   "source": [
    "predictions = clf.predict(X_test)"
   ]
  },
  {
   "cell_type": "code",
   "execution_count": 60,
   "metadata": {},
   "outputs": [],
   "source": [
    "from sklearn.metrics import confusion_matrix,classification_report\n",
    "from sklearn import metrics"
   ]
  },
  {
   "cell_type": "code",
   "execution_count": 61,
   "metadata": {},
   "outputs": [
    {
     "name": "stdout",
     "output_type": "stream",
     "text": [
      "              precision    recall  f1-score   support\n",
      "\n",
      "    negative       0.95      0.86      0.90       691\n",
      "    positive       0.99      1.00      0.99      8493\n",
      "\n",
      "    accuracy                           0.99      9184\n",
      "   macro avg       0.97      0.93      0.95      9184\n",
      "weighted avg       0.99      0.99      0.99      9184\n",
      "\n"
     ]
    }
   ],
   "source": [
    "print(classification_report(y_test,predictions))"
   ]
  },
  {
   "cell_type": "code",
   "execution_count": 62,
   "metadata": {},
   "outputs": [
    {
     "name": "stdout",
     "output_type": "stream",
     "text": [
      "0.9856271777003485\n"
     ]
    }
   ],
   "source": [
    "print(metrics.accuracy_score(y_test,predictions))\n"
   ]
  },
  {
   "cell_type": "markdown",
   "metadata": {},
   "source": [
    "## RANDOM FOREST"
   ]
  },
  {
   "cell_type": "code",
   "execution_count": 88,
   "metadata": {},
   "outputs": [],
   "source": [
    "from sklearn.feature_extraction.text import CountVectorizer\n",
    "X = data['review_clean_str']\n",
    "y = data['sentiment']"
   ]
  },
  {
   "cell_type": "code",
   "execution_count": 89,
   "metadata": {},
   "outputs": [],
   "source": [
    "X_train, X_test, y_train, y_test = train_test_split(X, y, test_size=0.3, random_state=101)"
   ]
  },
  {
   "cell_type": "code",
   "execution_count": 90,
   "metadata": {},
   "outputs": [],
   "source": [
    "from sklearn.ensemble import RandomForestClassifier\n",
    "from sklearn.feature_extraction.text import TfidfTransformer\n",
    "pipeline = Pipeline([\n",
    "    ('bow', CountVectorizer(stop_words='english',max_features=10000)),  # strings to token integer counts\n",
    "    ('tfidf', TfidfTransformer()),  # integer counts to weighted TF-IDF scores\n",
    "    ('classifier', RandomForestClassifier()),  # train on TF-IDF vectors w/ Random Forest classifier\n",
    "])"
   ]
  },
  {
   "cell_type": "code",
   "execution_count": 91,
   "metadata": {},
   "outputs": [
    {
     "data": {
      "text/plain": [
       "Pipeline(steps=[('bow',\n",
       "                 CountVectorizer(max_features=10000, stop_words='english')),\n",
       "                ('tfidf', TfidfTransformer()),\n",
       "                ('classifier', RandomForestClassifier())])"
      ]
     },
     "execution_count": 91,
     "metadata": {},
     "output_type": "execute_result"
    }
   ],
   "source": [
    "pipeline.fit(X_train,y_train)"
   ]
  },
  {
   "cell_type": "code",
   "execution_count": 92,
   "metadata": {},
   "outputs": [],
   "source": [
    "predictions = pipeline.predict(X_test)"
   ]
  },
  {
   "cell_type": "code",
   "execution_count": 93,
   "metadata": {},
   "outputs": [
    {
     "name": "stdout",
     "output_type": "stream",
     "text": [
      "              precision    recall  f1-score   support\n",
      "\n",
      "    negative       0.92      0.75      0.82       672\n",
      "    positive       0.98      0.99      0.99      8512\n",
      "\n",
      "    accuracy                           0.98      9184\n",
      "   macro avg       0.95      0.87      0.91      9184\n",
      "weighted avg       0.98      0.98      0.98      9184\n",
      "\n",
      "\n",
      "\n",
      "[[ 503  169]\n",
      " [  45 8467]]\n",
      "\n",
      " \n",
      "Accuracy is 0.976698606271777\n"
     ]
    }
   ],
   "source": [
    "print (classification_report(y_test,predictions))\n",
    "print ('\\n')\n",
    "print (confusion_matrix(y_test,predictions))\n",
    "print('\\n ')\n",
    "print(\"Accuracy is\", accuracy_score(y_test,predictions))"
   ]
  },
  {
   "cell_type": "markdown",
   "metadata": {},
   "source": [
    "## Logical Regression"
   ]
  },
  {
   "cell_type": "code",
   "execution_count": 94,
   "metadata": {},
   "outputs": [],
   "source": [
    "from sklearn.linear_model import LogisticRegression\n",
    "X = data['review_clean_str']\n",
    "y = data['sentiment']\n",
    "X_train, X_test, y_train, y_test = train_test_split(X, y, test_size=0.3, random_state=101)"
   ]
  },
  {
   "cell_type": "code",
   "execution_count": 95,
   "metadata": {},
   "outputs": [],
   "source": [
    "pipeline = Pipeline([\n",
    "    ('bow', CountVectorizer(stop_words='english',max_features=10000)),  # strings to token integer counts\n",
    "    ('tfidf', TfidfTransformer()),  # integer counts to weighted TF-IDF scores\n",
    "    ('classifier', LogisticRegression()),  # train on TF-IDF vectors w/ Logistic Regression classifier\n",
    "])"
   ]
  },
  {
   "cell_type": "code",
   "execution_count": null,
   "metadata": {},
   "outputs": [],
   "source": [
    "pipeline.fit(X_train,y_train)"
   ]
  },
  {
   "cell_type": "code",
   "execution_count": 72,
   "metadata": {},
   "outputs": [],
   "source": [
    "predictions = pipeline.predict(X_test)"
   ]
  },
  {
   "cell_type": "code",
   "execution_count": 73,
   "metadata": {},
   "outputs": [
    {
     "name": "stdout",
     "output_type": "stream",
     "text": [
      "              precision    recall  f1-score   support\n",
      "\n",
      "    negative       0.93      0.66      0.77       672\n",
      "    positive       0.97      1.00      0.98      8512\n",
      "\n",
      "    accuracy                           0.97      9184\n",
      "   macro avg       0.95      0.83      0.88      9184\n",
      "weighted avg       0.97      0.97      0.97      9184\n",
      "\n",
      "\n",
      "\n",
      "[[ 446  226]\n",
      " [  33 8479]]\n",
      "Accuracy is 0.9717987804878049\n"
     ]
    }
   ],
   "source": [
    "print (classification_report(y_test,predictions))\n",
    "print ('\\n')\n",
    "print (confusion_matrix(y_test,predictions))\n",
    "print(\"Accuracy is\", accuracy_score(y_test,predictions))"
   ]
  },
  {
   "cell_type": "code",
   "execution_count": 74,
   "metadata": {},
   "outputs": [
    {
     "data": {
      "text/plain": [
       "<AxesSubplot:>"
      ]
     },
     "execution_count": 74,
     "metadata": {},
     "output_type": "execute_result"
    },
    {
     "data": {
      "image/png": "[encoded data removed]",
      "text/plain": [
       "<Figure size 432x288 with 1 Axes>"
      ]
     },
     "metadata": {
      "needs_background": "light"
     },
     "output_type": "display_data"
    }
   ],
   "source": [
    "data['sentiment'].value_counts().plot(kind  = 'bar')"
   ]
  },
  {
   "cell_type": "code",
   "execution_count": 75,
   "metadata": {},
   "outputs": [
    {
     "data": {
      "text/plain": [
       "<AxesSubplot:>"
      ]
     },
     "execution_count": 75,
     "metadata": {},
     "output_type": "execute_result"
    },
    {
     "data": {
      "image/png": "[encoded data removed]",
      "text/plain": [
       "<Figure size 432x288 with 1 Axes>"
      ]
     },
     "metadata": {
      "needs_background": "light"
     },
     "output_type": "display_data"
    }
   ],
   "source": [
    "data['review_rating'].value_counts().plot(kind  = 'bar')"
   ]
  },
  {
   "cell_type": "code",
   "execution_count": 76,
   "metadata": {},
   "outputs": [
    {
     "name": "stderr",
     "output_type": "stream",
     "text": [
      "UsageError: Line magic function `%` not found.\n"
     ]
    }
   ],
   "source": [
    "import numpy as np\n",
    "import pandas as pd\n",
    "from os import path\n",
    "from PIL import Image\n",
    "from wordcloud import WordCloud, STOPWORDS, ImageColorGenerator\n",
    "\n",
    "import matplotlib.pyplot as plt\n",
    "% matplotlib inline"
   ]
  },
  {
   "cell_type": "code",
   "execution_count": 77,
   "metadata": {},
   "outputs": [],
   "source": [
    "import warnings\n",
    "warnings.filterwarnings(\"ignore\")"
   ]
  },
  {
   "cell_type": "code",
   "execution_count": 78,
   "metadata": {},
   "outputs": [],
   "source": [
    "from wordcloud import  WordCloud, STOPWORDS, ImageColorGenerator\n",
    " \n",
    "# Get stopwords from wordcloud library\n",
    "stopwords = set(STOPWORDS)"
   ]
  },
  {
   "cell_type": "code",
   "execution_count": 79,
   "metadata": {},
   "outputs": [
    {
     "data": {
      "image/png": "[encoded data removed]",
      "text/plain": [
       "<Figure size 1080x576 with 1 Axes>"
      ]
     },
     "metadata": {
      "needs_background": "light"
     },
     "output_type": "display_data"
    }
   ],
   "source": [
    "# join all reviews\n",
    "text = \" \".join(review for review in data['review_clean_str'])\n",
    " \n",
    "# Generate the image\n",
    "wordcloud = WordCloud(stopwords=stopwords, background_color=\"white\", max_words=100, min_word_length=5).generate(text)\n",
    " \n",
    "# visualize the image\n",
    "fig=plt.figure(figsize=(15, 8))\n",
    "plt.imshow(wordcloud, interpolation='bilinear')\n",
    "plt.axis(\"off\")\n",
    "plt.title('Total Reviews Word Clowd')\n",
    "plt.show()"
   ]
  },
  {
   "cell_type": "code",
   "execution_count": null,
   "metadata": {},
   "outputs": [],
   "source": []
  },
  {
   "cell_type": "code",
   "execution_count": null,
   "metadata": {},
   "outputs": [],
   "source": []
  }
 ],
 "metadata": {
  "kernelspec": {
   "display_name": "Python 3",
   "language": "python",
   "name": "python3"
  },
  "language_info": {
   "codemirror_mode": {
    "name": "ipython",
    "version": 3
   },
   "file_extension": ".py",
   "mimetype": "text/x-python",
   "name": "python",
   "nbconvert_exporter": "python",
   "pygments_lexer": "ipython3",
   "version": "3.8.5"
  }
 },
 "nbformat": 4,
 "nbformat_minor": 4
}
